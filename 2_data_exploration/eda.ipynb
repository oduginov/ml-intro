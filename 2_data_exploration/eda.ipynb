{
 "cells": [
  {
   "cell_type": "code",
   "execution_count": 1,
   "id": "b489cb9e",
   "metadata": {},
   "outputs": [],
   "source": [
    "import matplotlib.pyplot as plt\n",
    "import pandas as pd\n",
    "import seaborn as sns\n",
    "\n",
    "pd.set_option('display.max_column', None)\n",
    "\n",
    "sample_submission = pd.read_csv('./sample_submission.csv')\n",
    "test = pd.read_csv('./test.csv')\n",
    "train = pd.read_csv('./train.csv')\n",
    "data = pd.concat([test, train])"
   ]
  },
  {
   "cell_type": "markdown",
   "id": "d07912a0",
   "metadata": {},
   "source": [
    "# Context\n",
    "\n",
    "Plan:\n",
    "- Data Quality assessment\n",
    "   - The first look on the data\n",
    "   - Variables and their values, types (uni-variate analysis)\n",
    "- Data exploration\n",
    "   - Feature engineering\n",
    "   - Filling Missing Values\n",
    "   - Survival rate\n",
    "- Summary"
   ]
  },
  {
   "cell_type": "code",
   "execution_count": 2,
   "id": "6b981d68",
   "metadata": {},
   "outputs": [
    {
     "data": {
      "text/plain": "       PassengerId  Pclass                Name     Sex   Age  SibSp  Parch  \\\n0           100000       3    Holliday, Daniel    male  19.0      0      0   \n1           100001       3    Nguyen, Lorraine  female  53.0      0      0   \n2           100002       1     Harris, Heather  female  19.0      0      0   \n3           100003       2        Larsen, Eric    male  25.0      0      0   \n4           100004       1       Cleary, Sarah  female  17.0      0      2   \n...            ...     ...                 ...     ...   ...    ...    ...   \n99995       199995       3       Cash, Cheryle  female  27.0      0      0   \n99996       199996       1       Brown, Howard    male  59.0      1      0   \n99997       199997       3  Lightfoot, Cameron    male  47.0      0      0   \n99998       199998       1  Jacobsen, Margaret  female  49.0      1      2   \n99999       199999       1    Fishback, Joanna  female  41.0      0      2   \n\n         Ticket    Fare   Cabin Embarked  \n0         24745   63.01     NaN        S  \n1         13264    5.81     NaN        S  \n2         25990   38.91  B15315        C  \n3        314011   12.93     NaN        S  \n4         26203   26.89  B22515        C  \n...         ...     ...     ...      ...  \n99995      7686   10.12     NaN        Q  \n99996     13004   68.31     NaN        S  \n99997   4383317   10.87     NaN        S  \n99998  PC 26988   29.68  B20828        C  \n99999  PC 41824  195.41  E13345        C  \n\n[100000 rows x 11 columns]",
      "text/html": "<div>\n<style scoped>\n    .dataframe tbody tr th:only-of-type {\n        vertical-align: middle;\n    }\n\n    .dataframe tbody tr th {\n        vertical-align: top;\n    }\n\n    .dataframe thead th {\n        text-align: right;\n    }\n</style>\n<table border=\"1\" class=\"dataframe\">\n  <thead>\n    <tr style=\"text-align: right;\">\n      <th></th>\n      <th>PassengerId</th>\n      <th>Pclass</th>\n      <th>Name</th>\n      <th>Sex</th>\n      <th>Age</th>\n      <th>SibSp</th>\n      <th>Parch</th>\n      <th>Ticket</th>\n      <th>Fare</th>\n      <th>Cabin</th>\n      <th>Embarked</th>\n    </tr>\n  </thead>\n  <tbody>\n    <tr>\n      <th>0</th>\n      <td>100000</td>\n      <td>3</td>\n      <td>Holliday, Daniel</td>\n      <td>male</td>\n      <td>19.0</td>\n      <td>0</td>\n      <td>0</td>\n      <td>24745</td>\n      <td>63.01</td>\n      <td>NaN</td>\n      <td>S</td>\n    </tr>\n    <tr>\n      <th>1</th>\n      <td>100001</td>\n      <td>3</td>\n      <td>Nguyen, Lorraine</td>\n      <td>female</td>\n      <td>53.0</td>\n      <td>0</td>\n      <td>0</td>\n      <td>13264</td>\n      <td>5.81</td>\n      <td>NaN</td>\n      <td>S</td>\n    </tr>\n    <tr>\n      <th>2</th>\n      <td>100002</td>\n      <td>1</td>\n      <td>Harris, Heather</td>\n      <td>female</td>\n      <td>19.0</td>\n      <td>0</td>\n      <td>0</td>\n      <td>25990</td>\n      <td>38.91</td>\n      <td>B15315</td>\n      <td>C</td>\n    </tr>\n    <tr>\n      <th>3</th>\n      <td>100003</td>\n      <td>2</td>\n      <td>Larsen, Eric</td>\n      <td>male</td>\n      <td>25.0</td>\n      <td>0</td>\n      <td>0</td>\n      <td>314011</td>\n      <td>12.93</td>\n      <td>NaN</td>\n      <td>S</td>\n    </tr>\n    <tr>\n      <th>4</th>\n      <td>100004</td>\n      <td>1</td>\n      <td>Cleary, Sarah</td>\n      <td>female</td>\n      <td>17.0</td>\n      <td>0</td>\n      <td>2</td>\n      <td>26203</td>\n      <td>26.89</td>\n      <td>B22515</td>\n      <td>C</td>\n    </tr>\n    <tr>\n      <th>...</th>\n      <td>...</td>\n      <td>...</td>\n      <td>...</td>\n      <td>...</td>\n      <td>...</td>\n      <td>...</td>\n      <td>...</td>\n      <td>...</td>\n      <td>...</td>\n      <td>...</td>\n      <td>...</td>\n    </tr>\n    <tr>\n      <th>99995</th>\n      <td>199995</td>\n      <td>3</td>\n      <td>Cash, Cheryle</td>\n      <td>female</td>\n      <td>27.0</td>\n      <td>0</td>\n      <td>0</td>\n      <td>7686</td>\n      <td>10.12</td>\n      <td>NaN</td>\n      <td>Q</td>\n    </tr>\n    <tr>\n      <th>99996</th>\n      <td>199996</td>\n      <td>1</td>\n      <td>Brown, Howard</td>\n      <td>male</td>\n      <td>59.0</td>\n      <td>1</td>\n      <td>0</td>\n      <td>13004</td>\n      <td>68.31</td>\n      <td>NaN</td>\n      <td>S</td>\n    </tr>\n    <tr>\n      <th>99997</th>\n      <td>199997</td>\n      <td>3</td>\n      <td>Lightfoot, Cameron</td>\n      <td>male</td>\n      <td>47.0</td>\n      <td>0</td>\n      <td>0</td>\n      <td>4383317</td>\n      <td>10.87</td>\n      <td>NaN</td>\n      <td>S</td>\n    </tr>\n    <tr>\n      <th>99998</th>\n      <td>199998</td>\n      <td>1</td>\n      <td>Jacobsen, Margaret</td>\n      <td>female</td>\n      <td>49.0</td>\n      <td>1</td>\n      <td>2</td>\n      <td>PC 26988</td>\n      <td>29.68</td>\n      <td>B20828</td>\n      <td>C</td>\n    </tr>\n    <tr>\n      <th>99999</th>\n      <td>199999</td>\n      <td>1</td>\n      <td>Fishback, Joanna</td>\n      <td>female</td>\n      <td>41.0</td>\n      <td>0</td>\n      <td>2</td>\n      <td>PC 41824</td>\n      <td>195.41</td>\n      <td>E13345</td>\n      <td>C</td>\n    </tr>\n  </tbody>\n</table>\n<p>100000 rows × 11 columns</p>\n</div>"
     },
     "execution_count": 2,
     "metadata": {},
     "output_type": "execute_result"
    }
   ],
   "source": [
    "test"
   ]
  },
  {
   "cell_type": "markdown",
   "id": "9b4320c6",
   "metadata": {},
   "source": [
    "# Data quality assessment"
   ]
  },
  {
   "cell_type": "markdown",
   "id": "b3d43f31",
   "metadata": {},
   "source": [
    "## The first look on the data\n",
    "\n",
    "We can see that\n",
    " - both `test` and `train` datasets have the same rows, i.e. 100000 rows;\n",
    " - both `test` and `train` datasets does not have any duplicated rows;\n",
    " - there are 12 columns in the the `test` dataset and 11 columns in the `train` dataset;\n",
    " - the variable `Survived` is in the `train` dataset and is not in the `test` dataset;\n",
    " - the number of missing values in the `train` dataset equals to 76165;\n",
    " - the number of missing values in the `test` dataset equals to 79909;\n",
    " - the variables with missing values (for both `train` and `test` datasets) are `Age`, `Ticket`, `Fare`, `Cabin` and `Embarked`;"
   ]
  },
  {
   "cell_type": "code",
   "execution_count": 3,
   "id": "e443ca82",
   "metadata": {},
   "outputs": [
    {
     "name": "stdout",
     "output_type": "stream",
     "text": [
      "Rows and Columns in the train dataset: (100000, 12)\n",
      "Rows and Columns in the test dataset: (100000, 11) \n",
      "\n",
      "<class 'pandas.core.frame.DataFrame'>\n",
      "RangeIndex: 100000 entries, 0 to 99999\n",
      "Data columns (total 12 columns):\n",
      " #   Column       Non-Null Count   Dtype  \n",
      "---  ------       --------------   -----  \n",
      " 0   PassengerId  100000 non-null  int64  \n",
      " 1   Survived     100000 non-null  int64  \n",
      " 2   Pclass       100000 non-null  int64  \n",
      " 3   Name         100000 non-null  object \n",
      " 4   Sex          100000 non-null  object \n",
      " 5   Age          96708 non-null   float64\n",
      " 6   SibSp        100000 non-null  int64  \n",
      " 7   Parch        100000 non-null  int64  \n",
      " 8   Ticket       95377 non-null   object \n",
      " 9   Fare         99866 non-null   float64\n",
      " 10  Cabin        32134 non-null   object \n",
      " 11  Embarked     99750 non-null   object \n",
      "dtypes: float64(2), int64(5), object(5)\n",
      "memory usage: 9.2+ MB\n",
      "None \n",
      "\n",
      "<class 'pandas.core.frame.DataFrame'>\n",
      "RangeIndex: 100000 entries, 0 to 99999\n",
      "Data columns (total 11 columns):\n",
      " #   Column       Non-Null Count   Dtype  \n",
      "---  ------       --------------   -----  \n",
      " 0   PassengerId  100000 non-null  int64  \n",
      " 1   Pclass       100000 non-null  int64  \n",
      " 2   Name         100000 non-null  object \n",
      " 3   Sex          100000 non-null  object \n",
      " 4   Age          96513 non-null   float64\n",
      " 5   SibSp        100000 non-null  int64  \n",
      " 6   Parch        100000 non-null  int64  \n",
      " 7   Ticket       94819 non-null   object \n",
      " 8   Fare         99867 non-null   float64\n",
      " 9   Cabin        29169 non-null   object \n",
      " 10  Embarked     99723 non-null   object \n",
      "dtypes: float64(2), int64(4), object(5)\n",
      "memory usage: 8.4+ MB\n",
      "None \n",
      "\n",
      "Missing values in train dataset: 76165\n",
      "Missing values in test dataset: 79909\n",
      "Have datasets some duplicated rows:  False\n"
     ]
    }
   ],
   "source": [
    "print('Rows and Columns in the train dataset:', train.shape)\n",
    "print('Rows and Columns in the test dataset:', test.shape, '\\n')\n",
    "\n",
    "print(train.info(), '\\n')\n",
    "print(test.info(), '\\n')\n",
    "\n",
    "print('Missing values in train dataset:', sum(train.isnull().sum()))\n",
    "print('Missing values in test dataset:', sum(test.isnull().sum()))\n",
    "\n",
    "print('Have datasets some duplicated rows: ', data.duplicated().any())"
   ]
  },
  {
   "cell_type": "markdown",
   "id": "4241059c",
   "metadata": {},
   "source": [
    "## Variables and their values, types (uni-variate analysis)"
   ]
  },
  {
   "cell_type": "code",
   "execution_count": 4,
   "id": "001bc0bb",
   "metadata": {
    "pycharm": {
     "name": "#%%\n"
    }
   },
   "outputs": [
    {
     "data": {
      "text/plain": "   PassengerId  Survived  Pclass               Name     Sex    Age  SibSp  \\\n0            0         1       1   Oconnor, Frankie    male    NaN      2   \n1            1         0       3        Bryan, Drew    male    NaN      0   \n2            2         0       3     Owens, Kenneth    male   0.33      1   \n3            3         0       3      Kramer, James    male  19.00      0   \n4            4         1       3      Bond, Michael    male  25.00      0   \n5            5         0       2  Sassano, Jonathan    male  35.00      0   \n6            6         0       3       Conway, Jose    male   7.00      0   \n7            7         1       3      Werner, Linda  female   6.00      1   \n8            8         0       1   Wardlaw, Michael    male  27.00      2   \n9            9         0       2       Greigo, Rudy    male  66.00      0   \n\n   Parch     Ticket   Fare   Cabin Embarked  \n0      0     209245  27.14  C12239        S  \n1      0      27323  13.35     NaN        S  \n2      2  CA 457703  71.29     NaN        S  \n3      0   A. 10866  13.04     NaN        S  \n4      0     427635   7.76     NaN        S  \n5      0      13363   6.71     NaN        S  \n6      0       A/5    9.77     NaN        S  \n7      2     434426  31.50     NaN        S  \n8      1     474849  73.02   A7253        S  \n9      0       6981   9.14   D2969        C  ",
      "text/html": "<div>\n<style scoped>\n    .dataframe tbody tr th:only-of-type {\n        vertical-align: middle;\n    }\n\n    .dataframe tbody tr th {\n        vertical-align: top;\n    }\n\n    .dataframe thead th {\n        text-align: right;\n    }\n</style>\n<table border=\"1\" class=\"dataframe\">\n  <thead>\n    <tr style=\"text-align: right;\">\n      <th></th>\n      <th>PassengerId</th>\n      <th>Survived</th>\n      <th>Pclass</th>\n      <th>Name</th>\n      <th>Sex</th>\n      <th>Age</th>\n      <th>SibSp</th>\n      <th>Parch</th>\n      <th>Ticket</th>\n      <th>Fare</th>\n      <th>Cabin</th>\n      <th>Embarked</th>\n    </tr>\n  </thead>\n  <tbody>\n    <tr>\n      <th>0</th>\n      <td>0</td>\n      <td>1</td>\n      <td>1</td>\n      <td>Oconnor, Frankie</td>\n      <td>male</td>\n      <td>NaN</td>\n      <td>2</td>\n      <td>0</td>\n      <td>209245</td>\n      <td>27.14</td>\n      <td>C12239</td>\n      <td>S</td>\n    </tr>\n    <tr>\n      <th>1</th>\n      <td>1</td>\n      <td>0</td>\n      <td>3</td>\n      <td>Bryan, Drew</td>\n      <td>male</td>\n      <td>NaN</td>\n      <td>0</td>\n      <td>0</td>\n      <td>27323</td>\n      <td>13.35</td>\n      <td>NaN</td>\n      <td>S</td>\n    </tr>\n    <tr>\n      <th>2</th>\n      <td>2</td>\n      <td>0</td>\n      <td>3</td>\n      <td>Owens, Kenneth</td>\n      <td>male</td>\n      <td>0.33</td>\n      <td>1</td>\n      <td>2</td>\n      <td>CA 457703</td>\n      <td>71.29</td>\n      <td>NaN</td>\n      <td>S</td>\n    </tr>\n    <tr>\n      <th>3</th>\n      <td>3</td>\n      <td>0</td>\n      <td>3</td>\n      <td>Kramer, James</td>\n      <td>male</td>\n      <td>19.00</td>\n      <td>0</td>\n      <td>0</td>\n      <td>A. 10866</td>\n      <td>13.04</td>\n      <td>NaN</td>\n      <td>S</td>\n    </tr>\n    <tr>\n      <th>4</th>\n      <td>4</td>\n      <td>1</td>\n      <td>3</td>\n      <td>Bond, Michael</td>\n      <td>male</td>\n      <td>25.00</td>\n      <td>0</td>\n      <td>0</td>\n      <td>427635</td>\n      <td>7.76</td>\n      <td>NaN</td>\n      <td>S</td>\n    </tr>\n    <tr>\n      <th>5</th>\n      <td>5</td>\n      <td>0</td>\n      <td>2</td>\n      <td>Sassano, Jonathan</td>\n      <td>male</td>\n      <td>35.00</td>\n      <td>0</td>\n      <td>0</td>\n      <td>13363</td>\n      <td>6.71</td>\n      <td>NaN</td>\n      <td>S</td>\n    </tr>\n    <tr>\n      <th>6</th>\n      <td>6</td>\n      <td>0</td>\n      <td>3</td>\n      <td>Conway, Jose</td>\n      <td>male</td>\n      <td>7.00</td>\n      <td>0</td>\n      <td>0</td>\n      <td>A/5</td>\n      <td>9.77</td>\n      <td>NaN</td>\n      <td>S</td>\n    </tr>\n    <tr>\n      <th>7</th>\n      <td>7</td>\n      <td>1</td>\n      <td>3</td>\n      <td>Werner, Linda</td>\n      <td>female</td>\n      <td>6.00</td>\n      <td>1</td>\n      <td>2</td>\n      <td>434426</td>\n      <td>31.50</td>\n      <td>NaN</td>\n      <td>S</td>\n    </tr>\n    <tr>\n      <th>8</th>\n      <td>8</td>\n      <td>0</td>\n      <td>1</td>\n      <td>Wardlaw, Michael</td>\n      <td>male</td>\n      <td>27.00</td>\n      <td>2</td>\n      <td>1</td>\n      <td>474849</td>\n      <td>73.02</td>\n      <td>A7253</td>\n      <td>S</td>\n    </tr>\n    <tr>\n      <th>9</th>\n      <td>9</td>\n      <td>0</td>\n      <td>2</td>\n      <td>Greigo, Rudy</td>\n      <td>male</td>\n      <td>66.00</td>\n      <td>0</td>\n      <td>0</td>\n      <td>6981</td>\n      <td>9.14</td>\n      <td>D2969</td>\n      <td>C</td>\n    </tr>\n  </tbody>\n</table>\n</div>"
     },
     "execution_count": 4,
     "metadata": {},
     "output_type": "execute_result"
    }
   ],
   "source": [
    "train.head(10)"
   ]
  },
  {
   "cell_type": "markdown",
   "id": "d1efbd33",
   "metadata": {},
   "source": [
    "### The variable `PassengerId`\n",
    " - does not have duplicated values (in both datasets)\n",
    " - is a discrete variable"
   ]
  },
  {
   "cell_type": "code",
   "execution_count": 5,
   "id": "791c9b14",
   "metadata": {
    "pycharm": {
     "name": "#%%\n"
    }
   },
   "outputs": [
    {
     "name": "stdout",
     "output_type": "stream",
     "text": [
      "Has passengerID in train dataset any duplicated values:  False\n",
      "Has passengerID in test dataset any duplicated values:  False\n"
     ]
    }
   ],
   "source": [
    "print(\"Has passengerID in train dataset any duplicated values: \", train['PassengerId'].duplicated().any())\n",
    "print(\"Has passengerID in test dataset any duplicated values: \", test['PassengerId'].duplicated().any())"
   ]
  },
  {
   "cell_type": "markdown",
   "id": "31390cd1",
   "metadata": {},
   "source": [
    "### The variable `Pclass`\n",
    "As we can see below the variable `Pclass`\n",
    " - has values 1, 2 and 3 (the 1st ticket class, the 2nd ticket class, the 3rd ticket class)\n",
    " - is a discrete variable\n",
    " - has different proportions in the train and test datasets: the 1st ticket class in the train and test datasets are approximately the same; the 2nd ticket class is 30% in the train dataset and 10% in the test dataset; the 3rd ticket class in the train appears 40% and in the test dataset appears 60%."
   ]
  },
  {
   "cell_type": "code",
   "execution_count": 6,
   "id": "14e80f6d",
   "metadata": {
    "pycharm": {
     "name": "#%%\n"
    }
   },
   "outputs": [
    {
     "name": "stdout",
     "output_type": "stream",
     "text": [
      "   Pclass\n",
      "3   41006\n",
      "1   30315\n",
      "2   28679\n"
     ]
    },
    {
     "data": {
      "text/plain": "Text(0, 0.5, 'Amount')"
     },
     "execution_count": 6,
     "metadata": {},
     "output_type": "execute_result"
    },
    {
     "data": {
      "text/plain": "<Figure size 432x288 with 1 Axes>",
      "image/png": "[encoded data removed]"
     },
     "metadata": {
      "needs_background": "light"
     },
     "output_type": "display_data"
    }
   ],
   "source": [
    "frequency_table = pd.DataFrame(train['Pclass'].value_counts())\n",
    "print(frequency_table)\n",
    "\n",
    "# bar chart\n",
    "sns.barplot(x=frequency_table.index, y=frequency_table['Pclass'])\n",
    "plt.xlabel(\"Ticket class\")\n",
    "plt.ylabel(\"Amount\")\n",
    "\n",
    "# pie chart\n",
    "# frequency_table['Percentage'] = train['Pclass'].value_counts(normalize=True).mul(100)\n",
    "# frequency_table['Percentage'].plot.pie(subplots=True, figsize=(9, 5))\n",
    "# frequency_table = frequency_table.drop('Percentage', 1)"
   ]
  },
  {
   "cell_type": "code",
   "execution_count": 7,
   "id": "c0687fbd",
   "metadata": {
    "pycharm": {
     "name": "#%%\n"
    }
   },
   "outputs": [
    {
     "data": {
      "text/plain": "<AxesSubplot:ylabel='Pclass'>"
     },
     "execution_count": 7,
     "metadata": {},
     "output_type": "execute_result"
    },
    {
     "data": {
      "text/plain": "<Figure size 432x288 with 1 Axes>",
      "image/png": "[encoded data removed]"
     },
     "metadata": {
      "needs_background": "light"
     },
     "output_type": "display_data"
    }
   ],
   "source": [
    "# Comparing distribution of the variable Pclass in the train and test datasets\n",
    "\n",
    "frequency_table['Type dataset'] = 'train'\n",
    "test_table = pd.DataFrame(test['Pclass'].value_counts())\n",
    "test_table['Type dataset'] = 'test'\n",
    "total_table = pd.concat([frequency_table, test_table], axis=0)\n",
    "total_table\n",
    "plt.xlabel('')\n",
    "plt.ylabel('')\n",
    "\n",
    "sns.barplot(x=total_table.index, y=total_table['Pclass'] / 1000, zorder=2, hue=total_table['Type dataset'])"
   ]
  },
  {
   "cell_type": "markdown",
   "id": "de4b05e1",
   "metadata": {},
   "source": [
    "### The variable `Name`\n",
    "As we can see below the variable `Name`\n",
    " - is a discrete variable\n",
    " - has the type `str`\n",
    " - has non-empty strings as values\n",
    " - has values consisting of first name and second name (these two parts can be extracted into new features)"
   ]
  },
  {
   "cell_type": "code",
   "execution_count": 8,
   "id": "9a710a4a",
   "metadata": {
    "pycharm": {
     "name": "#%%\n"
    }
   },
   "outputs": [
    {
     "name": "stdout",
     "output_type": "stream",
     "text": [
      "The type of values of the variable Name:  <class 'str'>\n",
      "Is there empty strings as values of the variable Name:  False\n",
      "Do all names have delimiter ', ':  True\n"
     ]
    }
   ],
   "source": [
    "print('The type of values of the variable Name: ', type(train['Name'][0]))\n",
    "print('Is there empty strings as values of the variable Name: ', data[data['Name'].str.len() == 0].size > 1)\n",
    "print('Do all names have delimiter \\', \\': ',\n",
    "      data[data['Name'].str.split(', ').str.len() > 1].index.size == data.index.size)"
   ]
  },
  {
   "cell_type": "markdown",
   "id": "48b8e3e4",
   "metadata": {},
   "source": [
    "### The variable `Sex`\n",
    "As we can see below the variable `Sex`\n",
    " - is a discrete variable\n",
    " - has values `male` and `female`\n",
    " - has different proportions in the train and test datasets: Males appear 60% of values in the train dataset and 70% in the test dataset; females appear 40% in the train dataset and in test dataset 30% of total dataset."
   ]
  },
  {
   "cell_type": "code",
   "execution_count": 9,
   "id": "ae420e0f",
   "metadata": {
    "pycharm": {
     "name": "#%%\n"
    }
   },
   "outputs": [
    {
     "name": "stdout",
     "output_type": "stream",
     "text": [
      "          Sex\n",
      "male    56114\n",
      "female  43886\n"
     ]
    },
    {
     "data": {
      "text/plain": "Text(0, 0.5, 'Amount')"
     },
     "execution_count": 9,
     "metadata": {},
     "output_type": "execute_result"
    },
    {
     "data": {
      "text/plain": "<Figure size 432x288 with 1 Axes>",
      "image/png": "[encoded data removed]"
     },
     "metadata": {
      "needs_background": "light"
     },
     "output_type": "display_data"
    }
   ],
   "source": [
    "frequency_table = pd.DataFrame(train['Sex'].value_counts())\n",
    "print(frequency_table)\n",
    "\n",
    "# bar chart\n",
    "sns.barplot(x=frequency_table.index, y=frequency_table['Sex'])\n",
    "plt.xlabel(\"Sex\")\n",
    "plt.ylabel(\"Amount\")"
   ]
  },
  {
   "cell_type": "code",
   "execution_count": 10,
   "id": "21c8ed24",
   "metadata": {
    "pycharm": {
     "name": "#%%\n"
    }
   },
   "outputs": [
    {
     "data": {
      "text/plain": "<AxesSubplot:ylabel='Sex'>"
     },
     "execution_count": 10,
     "metadata": {},
     "output_type": "execute_result"
    },
    {
     "data": {
      "text/plain": "<Figure size 432x288 with 1 Axes>",
      "image/png": "[encoded data removed]"
     },
     "metadata": {
      "needs_background": "light"
     },
     "output_type": "display_data"
    }
   ],
   "source": [
    "# Comparing distribution of the variable `Sex` in the train and test datasets\n",
    "\n",
    "frequency_table['Type dataset'] = 'train'\n",
    "test_table = pd.DataFrame(test['Sex'].value_counts())\n",
    "test_table['Type dataset'] = 'test'\n",
    "total_table = pd.concat([frequency_table, test_table], axis=0)\n",
    "total_table\n",
    "plt.xlabel('')\n",
    "plt.ylabel('')\n",
    "\n",
    "sns.barplot(x=total_table.index, y=total_table['Sex'] / 1000, zorder=2, hue=total_table['Type dataset'])"
   ]
  },
  {
   "cell_type": "markdown",
   "id": "37b51bd4",
   "metadata": {},
   "source": []
  },
  {
   "cell_type": "code",
   "execution_count": 11,
   "id": "394f0760",
   "metadata": {
    "pycharm": {
     "name": "#%%\n"
    }
   },
   "outputs": [
    {
     "data": {
      "text/plain": "male      125871\nfemale     74129\nName: Sex, dtype: int64"
     },
     "execution_count": 11,
     "metadata": {},
     "output_type": "execute_result"
    }
   ],
   "source": [
    "data['Sex'].value_counts()"
   ]
  },
  {
   "cell_type": "markdown",
   "id": "4c727e94",
   "metadata": {},
   "source": [
    "### The variable `Age`\n",
    "As we can see below the variable `Age`\n",
    " - is a continuously variable\n",
    " - has different distribution between the train and the test datasets"
   ]
  },
  {
   "cell_type": "code",
   "execution_count": 12,
   "id": "2417286d",
   "metadata": {},
   "outputs": [
    {
     "name": "stdout",
     "output_type": "stream",
     "text": [
      "count    96708.000000\n",
      "mean        38.355472\n",
      "std         18.313556\n",
      "min          0.080000\n",
      "25%         25.000000\n",
      "50%         39.000000\n",
      "75%         53.000000\n",
      "max         87.000000\n",
      "Name: Age, dtype: float64\n"
     ]
    },
    {
     "data": {
      "text/plain": "(array([ 7876.,  4041., 16156., 13900., 13654., 15249., 14169.,  9261.,\n         2255.,   147.]),\n array([8.0000e-02, 8.7720e+00, 1.7464e+01, 2.6156e+01, 3.4848e+01,\n        4.3540e+01, 5.2232e+01, 6.0924e+01, 6.9616e+01, 7.8308e+01,\n        8.7000e+01]),\n <BarContainer object of 10 artists>)"
     },
     "execution_count": 12,
     "metadata": {},
     "output_type": "execute_result"
    },
    {
     "data": {
      "text/plain": "<Figure size 432x288 with 1 Axes>",
      "image/png": "[encoded data removed]"
     },
     "metadata": {
      "needs_background": "light"
     },
     "output_type": "display_data"
    }
   ],
   "source": [
    "print(train['Age'].describe())\n",
    "plt.hist(train['Age'])"
   ]
  },
  {
   "cell_type": "code",
   "execution_count": 13,
   "id": "6d677075",
   "metadata": {
    "pycharm": {
     "name": "#%%\n"
    }
   },
   "outputs": [
    {
     "data": {
      "text/plain": "Text(0, 0.5, '')"
     },
     "execution_count": 13,
     "metadata": {},
     "output_type": "execute_result"
    },
    {
     "data": {
      "text/plain": "<Figure size 432x288 with 1 Axes>",
      "image/png": "[encoded data removed]"
     },
     "metadata": {
      "needs_background": "light"
     },
     "output_type": "display_data"
    }
   ],
   "source": [
    "# Comparing distribution of the variable `Age` in the test dataset and the train dataset\n",
    "\n",
    "distr = sns.kdeplot(x=train['Age'], zorder=2, shade=True)\n",
    "distr = sns.kdeplot(x=test['Age'], zorder=2, shade=True)\n",
    "distr.set_xlabel('Age')\n",
    "distr.set_ylabel('')"
   ]
  },
  {
   "cell_type": "markdown",
   "id": "f7023cb6",
   "metadata": {},
   "source": [
    "### The variable `SibSp`\n",
    "As we can see below the variable `SibSp`\n",
    " - a discrete variable\n",
    " - has values 0, 1, 2, 3, 4, 5 and 8\n",
    " - passengers without siblings in the train dataset is more by 10% than in the test data\n",
    " - passengers with the single sibling in the train dataset is less by 10% than the test data"
   ]
  },
  {
   "cell_type": "code",
   "execution_count": 14,
   "id": "c65dd643",
   "metadata": {
    "pycharm": {
     "name": "#%%\n"
    }
   },
   "outputs": [
    {
     "name": "stdout",
     "output_type": "stream",
     "text": [
      "   SibSp\n",
      "0  73308\n",
      "1  19758\n",
      "2   3703\n",
      "3   1635\n",
      "4   1168\n",
      "8    296\n",
      "5    132\n"
     ]
    },
    {
     "data": {
      "text/plain": "Text(0, 0.5, 'Amount')"
     },
     "execution_count": 14,
     "metadata": {},
     "output_type": "execute_result"
    },
    {
     "data": {
      "text/plain": "<Figure size 432x288 with 1 Axes>",
      "image/png": "[encoded data removed]"
     },
     "metadata": {
      "needs_background": "light"
     },
     "output_type": "display_data"
    }
   ],
   "source": [
    "frequency_table = pd.DataFrame(train['SibSp'].value_counts())\n",
    "print(frequency_table)\n",
    "\n",
    "# bar chart\n",
    "sns.barplot(x=frequency_table.index, y=frequency_table['SibSp'])\n",
    "plt.xlabel(\"SibSp\")\n",
    "plt.ylabel(\"Amount\")"
   ]
  },
  {
   "cell_type": "code",
   "execution_count": 15,
   "id": "88d63d9c",
   "metadata": {
    "pycharm": {
     "name": "#%%\n"
    }
   },
   "outputs": [
    {
     "data": {
      "text/plain": "<AxesSubplot:ylabel='SibSp'>"
     },
     "execution_count": 15,
     "metadata": {},
     "output_type": "execute_result"
    },
    {
     "data": {
      "text/plain": "<Figure size 432x288 with 1 Axes>",
      "image/png": "[encoded data removed]"
     },
     "metadata": {
      "needs_background": "light"
     },
     "output_type": "display_data"
    }
   ],
   "source": [
    "# Comparing distribution of the variable `SibSp` in the train and test datasets\n",
    "\n",
    "frequency_table['Type dataset'] = 'train'\n",
    "test_table = pd.DataFrame(test['SibSp'].value_counts())\n",
    "test_table['Type dataset'] = 'test'\n",
    "total_table = pd.concat([frequency_table, test_table], axis=0)\n",
    "total_table\n",
    "plt.xlabel('')\n",
    "plt.ylabel('')\n",
    "\n",
    "sns.barplot(x=total_table.index, y=total_table['SibSp'] / 1000, zorder=2, hue=total_table['Type dataset'])"
   ]
  },
  {
   "cell_type": "markdown",
   "id": "19900e0f",
   "metadata": {},
   "source": [
    "### The variable `Parch`\n",
    "As we can see below the variable `Parch`\n",
    " - a discrete variable\n",
    " - has values 0, 1, 2, 3, 4, 5, 6, 9"
   ]
  },
  {
   "cell_type": "code",
   "execution_count": 16,
   "id": "50dd72d0",
   "metadata": {
    "pycharm": {
     "name": "#%%\n"
    }
   },
   "outputs": [
    {
     "name": "stdout",
     "output_type": "stream",
     "text": [
      "   Parch\n",
      "0  73540\n",
      "1  12996\n",
      "2  11236\n",
      "3    983\n",
      "4    446\n",
      "5    331\n",
      "9    264\n",
      "6    204\n"
     ]
    },
    {
     "data": {
      "text/plain": "Text(0, 0.5, 'Amount')"
     },
     "execution_count": 16,
     "metadata": {},
     "output_type": "execute_result"
    },
    {
     "data": {
      "text/plain": "<Figure size 432x288 with 1 Axes>",
      "image/png": "[encoded data removed]"
     },
     "metadata": {
      "needs_background": "light"
     },
     "output_type": "display_data"
    }
   ],
   "source": [
    "frequency_table = pd.DataFrame(train['Parch'].value_counts())\n",
    "print(frequency_table)\n",
    "\n",
    "# bar chart\n",
    "sns.barplot(x=frequency_table.index, y=frequency_table['Parch'])\n",
    "plt.xlabel(\"Parch\")\n",
    "plt.ylabel(\"Amount\")"
   ]
  },
  {
   "cell_type": "code",
   "execution_count": 17,
   "id": "5e7929a0",
   "metadata": {
    "pycharm": {
     "name": "#%%\n"
    }
   },
   "outputs": [
    {
     "data": {
      "text/plain": "<AxesSubplot:ylabel='Parch'>"
     },
     "execution_count": 17,
     "metadata": {},
     "output_type": "execute_result"
    },
    {
     "data": {
      "text/plain": "<Figure size 432x288 with 1 Axes>",
      "image/png": "[encoded data removed]"
     },
     "metadata": {
      "needs_background": "light"
     },
     "output_type": "display_data"
    }
   ],
   "source": [
    "# Comparing distribution of the variable `Parch` in the train and test datasets\n",
    "\n",
    "frequency_table['Type dataset'] = 'train'\n",
    "test_table = pd.DataFrame(test['Parch'].value_counts())\n",
    "test_table['Type dataset'] = 'test'\n",
    "total_table = pd.concat([frequency_table, test_table], axis=0)\n",
    "total_table\n",
    "plt.xlabel('')\n",
    "plt.ylabel('')\n",
    "\n",
    "sns.barplot(x=total_table.index, y=total_table['Parch'] / 1000, zorder=2, hue=total_table['Type dataset'])"
   ]
  },
  {
   "cell_type": "markdown",
   "id": "eee168bc",
   "metadata": {},
   "source": [
    "### The variable `Ticket`\n",
    "Values of the variable `Ticket` are strings. Some tickets are numeric and another tickets consist of two parts: a letter part and some numeric part. We need partition a ticket number with letter prefix into letter prefix and the numeric part. Tickets with some letters prefix contributes 25% of the total tickets in both `train` and `test` datasets. The variable `Ticket` have duplicated ticket numbers (in both datasets). The column `Ticket` contains empty entries (i.e. without a numeric part of a ticket number)"
   ]
  },
  {
   "cell_type": "code",
   "execution_count": 20,
   "id": "1fdf4269",
   "metadata": {
    "pycharm": {
     "name": "#%%\n"
    }
   },
   "outputs": [
    {
     "name": "stdout",
     "output_type": "stream",
     "text": [
      "The number of tickets with a letter prefix in the train dataset =  24655\n",
      "The number of tickets without any letter prefixes in the train dataset =  75345\n",
      "The number of tickets with a letter prefix in the test dataset =  25042\n",
      "The number of tickets without any letter prefixes in the test dataset =  74958\n",
      "Have tickets in train dataset any duplicated values:  True\n",
      "Have tickets in test dataset any duplicated values:  True\n",
      "Have tickets in train dataset empty entries: False\n",
      "Have tickets in test dataset empty entries: False\n"
     ]
    },
    {
     "data": {
      "text/plain": "NaN        70722\npc          6375\na           3750\nca          2448\na5          1804\nscparis     1778\nstono       1512\nsotonoq      992\nwc           711\npp           622\nfcc          577\na4           533\nscah         525\nstono2       416\nwep          344\nsoc          339\nfc           296\nsotono2      290\nc            220\nsc           164\nppp          149\nsopp         134\nscow         101\naq4           73\nsca4          71\nswpp          69\nlp            56\nfa            54\nas            44\nstonoq        38\ncasoton       37\nsop           36\nsp            34\nsca3          33\naq3           30\nName: Ticket, dtype: int64"
     },
     "execution_count": 20,
     "metadata": {},
     "output_type": "execute_result"
    }
   ],
   "source": [
    "# print(train['Ticket'].head())\n",
    "is_prefix = train['Ticket'].apply(lambda x: len(str(x).split(' ')) > 1)\n",
    "tickets_with_prefix = is_prefix.sum()\n",
    "print('The number of tickets with a letter prefix in the train dataset = ', tickets_with_prefix)\n",
    "print('The number of tickets without any letter prefixes in the train dataset = ',\n",
    "      len(train.index) - tickets_with_prefix)\n",
    "\n",
    "# print(test['Ticket'].head(10))\n",
    "is_prefix = test['Ticket'].apply(lambda x: len(str(x).split(' ')) > 1)\n",
    "tickets_with_prefix = is_prefix.sum()\n",
    "print('The number of tickets with a letter prefix in the test dataset = ', tickets_with_prefix)\n",
    "print('The number of tickets without any letter prefixes in the test dataset = ',\n",
    "      len(train.index) - tickets_with_prefix)\n",
    "\n",
    "print(\"Have tickets in train dataset any duplicated values: \", train['Ticket'].duplicated().any())\n",
    "print(\"Have tickets in test dataset any duplicated values: \", test['Ticket'].duplicated().any())\n",
    "\n",
    "print(\"Have tickets in train dataset empty entries:\", train[train['Ticket'] == ''].index.size > 0)\n",
    "print(\"Have tickets in test dataset empty entries:\", test[test['Ticket'] == ''].index.size > 0)\n",
    "train['Ticket']\n",
    "# List of letter prefixes of tickets\n",
    "train['Ticket'].dropna().apply(lambda e: str(e).split(' ')[0:1][0].replace('.', '').replace('/', '').lower() if len(\n",
    "    e.split(' ')) > 1 else 'NaN').value_counts()"
   ]
  },
  {
   "cell_type": "markdown",
   "id": "22dd1bb9",
   "metadata": {},
   "source": [
    "### The variable `Fare`\n",
    "As we can see below the variable `Fare`\n",
    " - is a continuously variable\n",
    " - has quite the same distribution in the train and test datasets"
   ]
  },
  {
   "cell_type": "code",
   "execution_count": 21,
   "id": "5fc7cc43",
   "metadata": {
    "pycharm": {
     "name": "#%%\n"
    }
   },
   "outputs": [
    {
     "data": {
      "text/plain": "(array([1.68172e+05, 1.37890e+04, 1.07830e+04, 5.30900e+03, 4.61000e+02,\n        4.95000e+02, 4.16000e+02, 2.18000e+02, 6.50000e+01, 2.50000e+01]),\n array([5.00000e-02, 7.45110e+01, 1.48972e+02, 2.23433e+02, 2.97894e+02,\n        3.72355e+02, 4.46816e+02, 5.21277e+02, 5.95738e+02, 6.70199e+02,\n        7.44660e+02]),\n <BarContainer object of 10 artists>)"
     },
     "execution_count": 21,
     "metadata": {},
     "output_type": "execute_result"
    },
    {
     "data": {
      "text/plain": "<Figure size 432x288 with 1 Axes>",
      "image/png": "[encoded data removed]"
     },
     "metadata": {
      "needs_background": "light"
     },
     "output_type": "display_data"
    }
   ],
   "source": [
    "train['Fare'].describe()\n",
    "plt.hist(data['Fare'])"
   ]
  },
  {
   "cell_type": "code",
   "execution_count": 22,
   "id": "b366b84c",
   "metadata": {
    "pycharm": {
     "name": "#%%\n"
    }
   },
   "outputs": [
    {
     "data": {
      "text/plain": "Text(0, 0.5, '')"
     },
     "execution_count": 22,
     "metadata": {},
     "output_type": "execute_result"
    },
    {
     "data": {
      "text/plain": "<Figure size 432x288 with 1 Axes>",
      "image/png": "[encoded data removed]"
     },
     "metadata": {
      "needs_background": "light"
     },
     "output_type": "display_data"
    }
   ],
   "source": [
    "# Comparing distribution of the variable `Fare` in the test dataset and the train dataset\n",
    "\n",
    "distr = sns.kdeplot(x=train['Fare'], zorder=2, shade=True)\n",
    "distr = sns.kdeplot(x=test['Fare'], zorder=2, shade=True)\n",
    "distr.set_xlabel('Fare')\n",
    "distr.set_ylabel('')"
   ]
  },
  {
   "cell_type": "markdown",
   "id": "70b67ad1",
   "metadata": {},
   "source": [
    "### The variable `Cabin`\n",
    "\n",
    "As we can see below the variable `Cabin`\n",
    " - has duplicated values\n",
    " - has values with the first symbol a letter (letters can be extracted into new feature)"
   ]
  },
  {
   "cell_type": "code",
   "execution_count": 23,
   "id": "b9c4b5eb",
   "metadata": {
    "pycharm": {
     "name": "#%%\n"
    }
   },
   "outputs": [
    {
     "name": "stdout",
     "output_type": "stream",
     "text": [
      "Has the variable Cabin in train dataset any duplicated values:  True\n",
      "Has the variable Cabin in test dataset any duplicated values:  True\n"
     ]
    }
   ],
   "source": [
    "print(\"Has the variable Cabin in train dataset any duplicated values: \", train['Cabin'].dropna().duplicated().any())\n",
    "print(\"Has the variable Cabin in test dataset any duplicated values: \", test['Cabin'].dropna().duplicated().any())"
   ]
  },
  {
   "cell_type": "markdown",
   "id": "8bcf4de2",
   "metadata": {},
   "source": [
    "### The variable `Embarked`\n",
    "\n",
    "As we can see below the variable `Embarked`\n",
    " - has duplicated values\n",
    " - values `S` (Southampton), `C` (Cherbourg) and `Q` (Queenstown)\n",
    " - is a discrete variable"
   ]
  },
  {
   "cell_type": "code",
   "execution_count": 24,
   "id": "343c0592",
   "metadata": {
    "pycharm": {
     "name": "#%%\n"
    }
   },
   "outputs": [
    {
     "data": {
      "text/plain": "S    140981\nC     44495\nQ     13997\nName: Embarked, dtype: int64"
     },
     "execution_count": 24,
     "metadata": {},
     "output_type": "execute_result"
    }
   ],
   "source": [
    "data['Embarked'].value_counts()"
   ]
  },
  {
   "cell_type": "markdown",
   "id": "3f309056",
   "metadata": {},
   "source": [
    "# Data exploration"
   ]
  },
  {
   "cell_type": "markdown",
   "id": "3e6238eb",
   "metadata": {},
   "source": [
    "## Feature engineering\n",
    "- Partition names into first names and second names\n",
    "- Partition tickets with letter prefixes into letter part and numeric part (if a ticket does not have letter prefixes then we assign a category `n`)\n",
    "- Partition cabin number into the deck part and the numeric part of the number\n",
    "\n",
    "## Description new features\n",
    "- `First name` is a variable with values of the first names of passengers\n",
    "- `Second name` is a variable with values of the second names of passengers\n",
    "- `Letter prefixes` is a variable with letter prefixes of numbers of tickets (if the number of a ticket does not have a letter prefix then we assign the value `n`)\n",
    "- `Ticket` is a variable with numeric parts of ticket numbers\n",
    "- `Deck` is a variable with values of deck numbers (from cabin numbers) and `N` (if no information about it)\n",
    "- `Cabin` contains only numerical parts of cabin numbers"
   ]
  },
  {
   "cell_type": "code",
   "execution_count": 25,
   "id": "e71fa3c4",
   "metadata": {
    "pycharm": {
     "name": "#%%\n"
    }
   },
   "outputs": [
    {
     "data": {
      "text/plain": "       PassengerId  Pclass                Name     Sex   Age  SibSp  Parch  \\\n0           100000       3    Holliday, Daniel    male  19.0      0      0   \n1           100001       3    Nguyen, Lorraine  female  53.0      0      0   \n2           100002       1     Harris, Heather  female  19.0      0      0   \n3           100003       2        Larsen, Eric    male  25.0      0      0   \n4           100004       1       Cleary, Sarah  female  17.0      0      2   \n...            ...     ...                 ...     ...   ...    ...    ...   \n99995       199995       3       Cash, Cheryle  female  27.0      0      0   \n99996       199996       1       Brown, Howard    male  59.0      1      0   \n99997       199997       3  Lightfoot, Cameron    male  47.0      0      0   \n99998       199998       1  Jacobsen, Margaret  female  49.0      1      2   \n99999       199999       1    Fishback, Joanna  female  41.0      0      2   \n\n        Ticket    Fare  Cabin Embarked First name Second name Letter prefixes  \\\n0        24745   63.01    NaN        S     Daniel    Holliday               n   \n1        13264    5.81    NaN        S   Lorraine      Nguyen               n   \n2        25990   38.91  15315        C    Heather      Harris               n   \n3       314011   12.93    NaN        S       Eric      Larsen               n   \n4        26203   26.89  22515        C      Sarah      Cleary               n   \n...        ...     ...    ...      ...        ...         ...             ...   \n99995     7686   10.12    NaN        Q    Cheryle        Cash               n   \n99996    13004   68.31    NaN        S     Howard       Brown               n   \n99997  4383317   10.87    NaN        S    Cameron   Lightfoot               n   \n99998    26988   29.68  20828        C   Margaret    Jacobsen              pc   \n99999    41824  195.41  13345        C     Joanna    Fishback              pc   \n\n      Deck  \n0        N  \n1        N  \n2        B  \n3        N  \n4        B  \n...    ...  \n99995    N  \n99996    N  \n99997    N  \n99998    B  \n99999    E  \n\n[100000 rows x 15 columns]",
      "text/html": "<div>\n<style scoped>\n    .dataframe tbody tr th:only-of-type {\n        vertical-align: middle;\n    }\n\n    .dataframe tbody tr th {\n        vertical-align: top;\n    }\n\n    .dataframe thead th {\n        text-align: right;\n    }\n</style>\n<table border=\"1\" class=\"dataframe\">\n  <thead>\n    <tr style=\"text-align: right;\">\n      <th></th>\n      <th>PassengerId</th>\n      <th>Pclass</th>\n      <th>Name</th>\n      <th>Sex</th>\n      <th>Age</th>\n      <th>SibSp</th>\n      <th>Parch</th>\n      <th>Ticket</th>\n      <th>Fare</th>\n      <th>Cabin</th>\n      <th>Embarked</th>\n      <th>First name</th>\n      <th>Second name</th>\n      <th>Letter prefixes</th>\n      <th>Deck</th>\n    </tr>\n  </thead>\n  <tbody>\n    <tr>\n      <th>0</th>\n      <td>100000</td>\n      <td>3</td>\n      <td>Holliday, Daniel</td>\n      <td>male</td>\n      <td>19.0</td>\n      <td>0</td>\n      <td>0</td>\n      <td>24745</td>\n      <td>63.01</td>\n      <td>NaN</td>\n      <td>S</td>\n      <td>Daniel</td>\n      <td>Holliday</td>\n      <td>n</td>\n      <td>N</td>\n    </tr>\n    <tr>\n      <th>1</th>\n      <td>100001</td>\n      <td>3</td>\n      <td>Nguyen, Lorraine</td>\n      <td>female</td>\n      <td>53.0</td>\n      <td>0</td>\n      <td>0</td>\n      <td>13264</td>\n      <td>5.81</td>\n      <td>NaN</td>\n      <td>S</td>\n      <td>Lorraine</td>\n      <td>Nguyen</td>\n      <td>n</td>\n      <td>N</td>\n    </tr>\n    <tr>\n      <th>2</th>\n      <td>100002</td>\n      <td>1</td>\n      <td>Harris, Heather</td>\n      <td>female</td>\n      <td>19.0</td>\n      <td>0</td>\n      <td>0</td>\n      <td>25990</td>\n      <td>38.91</td>\n      <td>15315</td>\n      <td>C</td>\n      <td>Heather</td>\n      <td>Harris</td>\n      <td>n</td>\n      <td>B</td>\n    </tr>\n    <tr>\n      <th>3</th>\n      <td>100003</td>\n      <td>2</td>\n      <td>Larsen, Eric</td>\n      <td>male</td>\n      <td>25.0</td>\n      <td>0</td>\n      <td>0</td>\n      <td>314011</td>\n      <td>12.93</td>\n      <td>NaN</td>\n      <td>S</td>\n      <td>Eric</td>\n      <td>Larsen</td>\n      <td>n</td>\n      <td>N</td>\n    </tr>\n    <tr>\n      <th>4</th>\n      <td>100004</td>\n      <td>1</td>\n      <td>Cleary, Sarah</td>\n      <td>female</td>\n      <td>17.0</td>\n      <td>0</td>\n      <td>2</td>\n      <td>26203</td>\n      <td>26.89</td>\n      <td>22515</td>\n      <td>C</td>\n      <td>Sarah</td>\n      <td>Cleary</td>\n      <td>n</td>\n      <td>B</td>\n    </tr>\n    <tr>\n      <th>...</th>\n      <td>...</td>\n      <td>...</td>\n      <td>...</td>\n      <td>...</td>\n      <td>...</td>\n      <td>...</td>\n      <td>...</td>\n      <td>...</td>\n      <td>...</td>\n      <td>...</td>\n      <td>...</td>\n      <td>...</td>\n      <td>...</td>\n      <td>...</td>\n      <td>...</td>\n    </tr>\n    <tr>\n      <th>99995</th>\n      <td>199995</td>\n      <td>3</td>\n      <td>Cash, Cheryle</td>\n      <td>female</td>\n      <td>27.0</td>\n      <td>0</td>\n      <td>0</td>\n      <td>7686</td>\n      <td>10.12</td>\n      <td>NaN</td>\n      <td>Q</td>\n      <td>Cheryle</td>\n      <td>Cash</td>\n      <td>n</td>\n      <td>N</td>\n    </tr>\n    <tr>\n      <th>99996</th>\n      <td>199996</td>\n      <td>1</td>\n      <td>Brown, Howard</td>\n      <td>male</td>\n      <td>59.0</td>\n      <td>1</td>\n      <td>0</td>\n      <td>13004</td>\n      <td>68.31</td>\n      <td>NaN</td>\n      <td>S</td>\n      <td>Howard</td>\n      <td>Brown</td>\n      <td>n</td>\n      <td>N</td>\n    </tr>\n    <tr>\n      <th>99997</th>\n      <td>199997</td>\n      <td>3</td>\n      <td>Lightfoot, Cameron</td>\n      <td>male</td>\n      <td>47.0</td>\n      <td>0</td>\n      <td>0</td>\n      <td>4383317</td>\n      <td>10.87</td>\n      <td>NaN</td>\n      <td>S</td>\n      <td>Cameron</td>\n      <td>Lightfoot</td>\n      <td>n</td>\n      <td>N</td>\n    </tr>\n    <tr>\n      <th>99998</th>\n      <td>199998</td>\n      <td>1</td>\n      <td>Jacobsen, Margaret</td>\n      <td>female</td>\n      <td>49.0</td>\n      <td>1</td>\n      <td>2</td>\n      <td>26988</td>\n      <td>29.68</td>\n      <td>20828</td>\n      <td>C</td>\n      <td>Margaret</td>\n      <td>Jacobsen</td>\n      <td>pc</td>\n      <td>B</td>\n    </tr>\n    <tr>\n      <th>99999</th>\n      <td>199999</td>\n      <td>1</td>\n      <td>Fishback, Joanna</td>\n      <td>female</td>\n      <td>41.0</td>\n      <td>0</td>\n      <td>2</td>\n      <td>41824</td>\n      <td>195.41</td>\n      <td>13345</td>\n      <td>C</td>\n      <td>Joanna</td>\n      <td>Fishback</td>\n      <td>pc</td>\n      <td>E</td>\n    </tr>\n  </tbody>\n</table>\n<p>100000 rows × 15 columns</p>\n</div>"
     },
     "execution_count": 25,
     "metadata": {},
     "output_type": "execute_result"
    }
   ],
   "source": [
    "train['First name'] = train['Name'].apply(lambda e: str(e).split(', ')[1:2][0])\n",
    "train['Second name'] = train['Name'].apply(lambda e: str(e).split(', ')[0:1][0])\n",
    "test['First name'] = test['Name'].apply(lambda e: str(e).split(', ')[1:2][0])\n",
    "test['Second name'] = test['Name'].apply(lambda e: str(e).split(', ')[0:1][0])\n",
    "\n",
    "train['Letter prefixes'] = train['Ticket'].apply(\n",
    "    lambda e: str(e).split(' ')[0:1][0].replace('.', '').replace('/', '').lower() if len(\n",
    "        str(e).split(' ')) > 1 else 'n')\n",
    "train['Ticket'] = train['Ticket'].apply(\n",
    "    lambda e: str(e).split(' ')[-1].replace('.', '').replace('/', '').lower() if len(str(e).split(' ')) > 1 else e)\n",
    "\n",
    "test['Letter prefixes'] = test['Ticket'].apply(\n",
    "    lambda e: str(e).split(' ')[0:1][0].replace('.', '').replace('/', '').lower() if len(\n",
    "        str(e).split(' ')) > 1 else 'n')\n",
    "test['Ticket'] = test['Ticket'].apply(\n",
    "    lambda e: str(e).split(' ')[-1].replace('.', '').replace('/', '').lower() if len(str(e).split(' ')) > 1 else e)\n",
    "\n",
    "train['Deck'] = train['Cabin'].apply(lambda e: 'N' if pd.isna(e) else str(e)[0: 1])\n",
    "train['Cabin'] = train['Cabin'].apply(lambda e: e if str(e).isnumeric() | pd.isna(e) else str(e)[1:])\n",
    "test['Deck'] = test['Cabin'].apply(lambda e: 'N' if pd.isna(e) else str(e)[0: 1])\n",
    "test['Cabin'] = test['Cabin'].apply(lambda e: e if str(e).isnumeric() | pd.isna(e) else str(e)[1:])\n",
    "\n",
    "test"
   ]
  },
  {
   "cell_type": "markdown",
   "id": "3b680139",
   "metadata": {},
   "source": [
    "## Uni variate analysis of variables `First name` and `Second name`\n",
    "\n",
    "Top five first names of passengers: James, John, Robert, Michael, William.\n",
    "\n",
    "Top five last names of passengers: Smith, Johnson, Williams, Jones, Brown"
   ]
  },
  {
   "cell_type": "code",
   "execution_count": 26,
   "id": "d10cbfa2",
   "metadata": {
    "pycharm": {
     "name": "#%%\n"
    }
   },
   "outputs": [
    {
     "name": "stdout",
     "output_type": "stream",
     "text": [
      "In the train dataset: \n",
      " First name\n",
      "James      2112\n",
      "John       2087\n",
      "Robert     1951\n",
      "Michael    1685\n",
      "William    1525\n",
      "dtype: int64\n",
      "In the test dataset: \n",
      " First name\n",
      "James      2624\n",
      "John       2528\n",
      "Robert     2327\n",
      "Michael    1977\n",
      "William    1888\n",
      "dtype: int64\n",
      "In the train dataset: \n",
      " Second name\n",
      "Smith       1162\n",
      "Johnson      950\n",
      "Williams     733\n",
      "Jones        681\n",
      "Brown        665\n",
      "dtype: int64\n",
      "In the test dataset: \n",
      " Second name\n",
      "Smith       1143\n",
      "Johnson      867\n",
      "Williams     755\n",
      "Brown        687\n",
      "Jones        651\n",
      "dtype: int64\n"
     ]
    }
   ],
   "source": [
    "first_names_train = train.groupby(['First name']).size().sort_values(ascending=False)\n",
    "print('In the train dataset: \\n', first_names_train.head())\n",
    "\n",
    "first_names_test = test.groupby(['First name']).size().sort_values(ascending=False)\n",
    "print('In the test dataset: \\n', first_names_test.head())\n",
    "\n",
    "second_names_train = train.groupby(['Second name']).size().sort_values(ascending=False)\n",
    "print('In the train dataset: \\n', second_names_train.head())\n",
    "\n",
    "second_names_test = test.groupby(['Second name']).size().sort_values(ascending=False)\n",
    "print('In the test dataset: \\n', second_names_test.head())"
   ]
  },
  {
   "cell_type": "markdown",
   "id": "6bd50e5e",
   "metadata": {},
   "source": [
    "## Uni variate analysis of variables `Letter prefixes` and `Ticket`\n",
    "The variable `Letter prefixes` is a discrete while the variable `Ticket` is continuously. We deleted auxiliary symbols from values of `Letter prefixes` and did lowercase."
   ]
  },
  {
   "cell_type": "code",
   "execution_count": 27,
   "id": "c063ded0",
   "metadata": {
    "pycharm": {
     "name": "#%%\n"
    }
   },
   "outputs": [
    {
     "name": "stdout",
     "output_type": "stream",
     "text": [
      "         Letter prefixes\n",
      "n                  75345\n",
      "pc                  6375\n",
      "a                   3750\n",
      "ca                  2448\n",
      "a5                  1804\n",
      "scparis             1778\n",
      "stono               1512\n",
      "sotonoq              992\n",
      "wc                   711\n",
      "pp                   622\n",
      "fcc                  577\n",
      "a4                   533\n",
      "scah                 525\n",
      "stono2               416\n",
      "wep                  344\n",
      "soc                  339\n",
      "fc                   296\n",
      "sotono2              290\n",
      "c                    220\n",
      "sc                   164\n",
      "ppp                  149\n",
      "sopp                 134\n",
      "scow                 101\n",
      "aq4                   73\n",
      "sca4                  71\n",
      "swpp                  69\n",
      "lp                    56\n",
      "fa                    54\n",
      "as                    44\n",
      "stonoq                38\n",
      "casoton               37\n",
      "sop                   36\n",
      "sp                    34\n",
      "sca3                  33\n",
      "aq3                   30\n"
     ]
    },
    {
     "data": {
      "text/plain": "(array([0, 1, 2, 3, 4, 5, 6, 7, 8, 9]),\n [Text(0, 0, 'n'),\n  Text(1, 0, 'pc'),\n  Text(2, 0, 'a'),\n  Text(3, 0, 'ca'),\n  Text(4, 0, 'a5'),\n  Text(5, 0, 'scparis'),\n  Text(6, 0, 'stono'),\n  Text(7, 0, 'sotonoq'),\n  Text(8, 0, 'wc'),\n  Text(9, 0, 'pp')])"
     },
     "execution_count": 27,
     "metadata": {},
     "output_type": "execute_result"
    },
    {
     "data": {
      "text/plain": "<Figure size 432x288 with 1 Axes>",
      "image/png": "[encoded data removed]"
     },
     "metadata": {
      "needs_background": "light"
     },
     "output_type": "display_data"
    }
   ],
   "source": [
    "frequency_table = pd.DataFrame(train['Letter prefixes'].value_counts())\n",
    "print(frequency_table)\n",
    "\n",
    "# bar chart\n",
    "sns.barplot(x=frequency_table.index[0:10], y=frequency_table['Letter prefixes'][0:10])\n",
    "plt.xlabel(\"Letter prefixes\")\n",
    "plt.ylabel(\"Amount\")\n",
    "plt.xticks(rotation = 90)"
   ]
  },
  {
   "cell_type": "code",
   "execution_count": 28,
   "id": "cea365c9",
   "metadata": {
    "pycharm": {
     "name": "#%%\n"
    }
   },
   "outputs": [
    {
     "data": {
      "text/plain": "<AxesSubplot:ylabel='Letter prefixes'>"
     },
     "execution_count": 28,
     "metadata": {},
     "output_type": "execute_result"
    },
    {
     "data": {
      "text/plain": "<Figure size 432x288 with 1 Axes>",
      "image/png": "[encoded data removed]"
     },
     "metadata": {
      "needs_background": "light"
     },
     "output_type": "display_data"
    }
   ],
   "source": [
    "# Comparing distribution of the variable `Letter prefixes` in the train and test datasets\n",
    "\n",
    "frequency_table['Type dataset'] = 'train'\n",
    "test_table = pd.DataFrame(test['Letter prefixes'].value_counts())\n",
    "test_table['Type dataset'] = 'test'\n",
    "total_table = pd.concat([frequency_table[0:10], test_table[0:10]], axis=0)\n",
    "total_table\n",
    "plt.xlabel('')\n",
    "plt.ylabel('')\n",
    "\n",
    "sns.barplot(x=total_table.index, y=total_table['Letter prefixes'] / 1000, zorder=2, hue=total_table['Type dataset'])"
   ]
  },
  {
   "cell_type": "markdown",
   "id": "2f9b9638",
   "metadata": {},
   "source": [
    "## Uni variate analysis of variables `Deck` and `Cabin`\n",
    "Almost 70% of the values of the both variables are missing. Values of the variable `Deck` are `A`, `B`, `C`, `D`, `E`, `F`, `G`, `T` and `N` (where `N` us artificial value meaning `NaN`). Appearing of each value of the `Deck` (except the value `C`) in the `test` and `train` datasets is balanced. There is quite a distinct imbalance between values `C` in the `test` and `train` datasets."
   ]
  },
  {
   "cell_type": "code",
   "execution_count": 29,
   "id": "463c2ead",
   "metadata": {
    "pycharm": {
     "name": "#%%\n"
    }
   },
   "outputs": [
    {
     "name": "stdout",
     "output_type": "stream",
     "text": [
      "    Deck\n",
      "N  67866\n",
      "C  11825\n",
      "B   7439\n",
      "A   6307\n",
      "D   3637\n",
      "E   1749\n",
      "F    663\n",
      "G    482\n",
      "T     32\n"
     ]
    },
    {
     "data": {
      "text/plain": "Text(0, 0.5, 'Amount')"
     },
     "execution_count": 29,
     "metadata": {},
     "output_type": "execute_result"
    },
    {
     "data": {
      "text/plain": "<Figure size 432x288 with 1 Axes>",
      "image/png": "[encoded data removed]"
     },
     "metadata": {
      "needs_background": "light"
     },
     "output_type": "display_data"
    }
   ],
   "source": [
    "frequency_table = pd.DataFrame(train['Deck'].value_counts())\n",
    "print(frequency_table)\n",
    "\n",
    "# bar chart\n",
    "sns.barplot(x=frequency_table.index, y=frequency_table['Deck'])\n",
    "plt.xlabel(\"Deck\")\n",
    "plt.ylabel(\"Amount\")"
   ]
  },
  {
   "cell_type": "code",
   "execution_count": 30,
   "id": "8bb1b42b",
   "metadata": {
    "pycharm": {
     "name": "#%%\n"
    }
   },
   "outputs": [
    {
     "data": {
      "text/plain": "<AxesSubplot:ylabel='Deck'>"
     },
     "execution_count": 30,
     "metadata": {},
     "output_type": "execute_result"
    },
    {
     "data": {
      "text/plain": "<Figure size 432x288 with 1 Axes>",
      "image/png": "[encoded data removed]"
     },
     "metadata": {
      "needs_background": "light"
     },
     "output_type": "display_data"
    }
   ],
   "source": [
    "# Comparing distribution of the variable `Deck` in the train and test datasets\n",
    "\n",
    "frequency_table['Type dataset'] = 'train'\n",
    "test_table = pd.DataFrame(test['Deck'].value_counts())\n",
    "test_table['Type dataset'] = 'test'\n",
    "total_table = pd.concat([frequency_table, test_table], axis=0)\n",
    "total_table\n",
    "plt.xlabel('')\n",
    "plt.ylabel('')\n",
    "\n",
    "sns.barplot(x=total_table.index, y=total_table['Deck'] / 1000, zorder=2, hue=total_table['Type dataset'])"
   ]
  },
  {
   "cell_type": "markdown",
   "id": "1a8ca45b",
   "metadata": {},
   "source": [
    "## Filling Missing Values\n",
    " - In the variable `Cabin` we replace `NaN` with `0`\n",
    " - In the variables `Age` and `Fare` we replace `NaN` mean values over ticket classes\n",
    " - In the variable `Embarked` we replace `NaN` by new category 'X'"
   ]
  },
  {
   "cell_type": "code",
   "execution_count": 31,
   "id": "3121bb6f",
   "metadata": {
    "pycharm": {
     "name": "#%%\n"
    }
   },
   "outputs": [
    {
     "name": "stdout",
     "output_type": "stream",
     "text": [
      "<class 'pandas.core.frame.DataFrame'>\n",
      "RangeIndex: 100000 entries, 0 to 99999\n",
      "Data columns (total 16 columns):\n",
      " #   Column           Non-Null Count   Dtype  \n",
      "---  ------           --------------   -----  \n",
      " 0   PassengerId      100000 non-null  int64  \n",
      " 1   Survived         100000 non-null  int64  \n",
      " 2   Pclass           100000 non-null  int64  \n",
      " 3   Name             100000 non-null  object \n",
      " 4   Sex              100000 non-null  object \n",
      " 5   Age              96708 non-null   float64\n",
      " 6   SibSp            100000 non-null  int64  \n",
      " 7   Parch            100000 non-null  int64  \n",
      " 8   Ticket           95377 non-null   object \n",
      " 9   Fare             99866 non-null   float64\n",
      " 10  Cabin            32134 non-null   object \n",
      " 11  Embarked         99750 non-null   object \n",
      " 12  First name       100000 non-null  object \n",
      " 13  Second name      100000 non-null  object \n",
      " 14  Letter prefixes  100000 non-null  object \n",
      " 15  Deck             100000 non-null  object \n",
      "dtypes: float64(2), int64(5), object(9)\n",
      "memory usage: 12.2+ MB\n",
      "None \n",
      "\n",
      "<class 'pandas.core.frame.DataFrame'>\n",
      "RangeIndex: 100000 entries, 0 to 99999\n",
      "Data columns (total 15 columns):\n",
      " #   Column           Non-Null Count   Dtype  \n",
      "---  ------           --------------   -----  \n",
      " 0   PassengerId      100000 non-null  int64  \n",
      " 1   Pclass           100000 non-null  int64  \n",
      " 2   Name             100000 non-null  object \n",
      " 3   Sex              100000 non-null  object \n",
      " 4   Age              96513 non-null   float64\n",
      " 5   SibSp            100000 non-null  int64  \n",
      " 6   Parch            100000 non-null  int64  \n",
      " 7   Ticket           94819 non-null   object \n",
      " 8   Fare             99867 non-null   float64\n",
      " 9   Cabin            29169 non-null   object \n",
      " 10  Embarked         99723 non-null   object \n",
      " 11  First name       100000 non-null  object \n",
      " 12  Second name      100000 non-null  object \n",
      " 13  Letter prefixes  100000 non-null  object \n",
      " 14  Deck             100000 non-null  object \n",
      "dtypes: float64(2), int64(4), object(9)\n",
      "memory usage: 11.4+ MB\n",
      "None \n",
      "\n"
     ]
    }
   ],
   "source": [
    "print(train.info(), '\\n')\n",
    "print(test.info(), '\\n')\n",
    "\n",
    "train['Cabin'] = train['Cabin'].fillna(0)\n",
    "test['Cabin'] = test['Cabin'].fillna(0)"
   ]
  },
  {
   "cell_type": "code",
   "execution_count": 32,
   "id": "f8bdc843",
   "metadata": {
    "pycharm": {
     "name": "#%%\n"
    }
   },
   "outputs": [
    {
     "data": {
      "text/plain": "<AxesSubplot:title={'center':'Age'}, xlabel='[Pclass]'>"
     },
     "execution_count": 32,
     "metadata": {},
     "output_type": "execute_result"
    },
    {
     "data": {
      "text/plain": "<Figure size 432x288 with 1 Axes>",
      "image/png": "[encoded data removed]"
     },
     "metadata": {
      "needs_background": "light"
     },
     "output_type": "display_data"
    },
    {
     "data": {
      "text/plain": "<Figure size 432x288 with 1 Axes>",
      "image/png": "[encoded data removed]"
     },
     "metadata": {
      "needs_background": "light"
     },
     "output_type": "display_data"
    }
   ],
   "source": [
    "# We can see that expected older people had higher ticket class\n",
    "train[['Age', 'Pclass']].boxplot(by = 'Pclass')\n",
    "test[['Age', 'Pclass']].boxplot(by = 'Pclass')"
   ]
  },
  {
   "cell_type": "code",
   "execution_count": 33,
   "id": "46a5efe8",
   "metadata": {
    "pycharm": {
     "name": "#%%\n"
    }
   },
   "outputs": [],
   "source": [
    "# In the variable `Age` we replace `NaN` mean values over ticket classes\n",
    "train['Age'] = train['Age'].fillna(train.groupby('Pclass')['Age'].transform('mean'))\n",
    "test['Age'] = test['Age'].fillna(test.groupby('Pclass')['Age'].transform('mean'))"
   ]
  },
  {
   "cell_type": "code",
   "execution_count": 34,
   "outputs": [
    {
     "data": {
      "text/plain": "0          24745\n1          13264\n2          25990\n3         314011\n4          26203\n          ...   \n99995       7686\n99996      13004\n99997    4383317\n99998      26988\n99999      41824\nName: Ticket, Length: 100000, dtype: int32"
     },
     "execution_count": 34,
     "metadata": {},
     "output_type": "execute_result"
    }
   ],
   "source": [
    "# Empty entries of the column `Ticket` we fill by 'NaN'\n",
    "# In the column 'Ticket' we replace 'NaN' with mean\n",
    "\n",
    "train['Ticket'] = train['Ticket'].apply(lambda e : e if len(str(e)) > 0 else 'NaN')\n",
    "train['Ticket'] = train['Ticket'].astype(float)\n",
    "\n",
    "test['Ticket'] = test['Ticket'].apply(lambda e : e if len(str(e)) > 0 else 'NaN')\n",
    "test['Ticket'] = test['Ticket'].astype(float)\n",
    "\n",
    "test['Ticket'] = test['Ticket'].fillna(test['Ticket'].mean()).astype(int)\n",
    "train['Ticket'] = train['Ticket'].fillna(train['Ticket'].mean()).astype(int)\n",
    "test['Ticket']"
   ],
   "metadata": {
    "collapsed": false,
    "pycharm": {
     "name": "#%%\n"
    }
   }
  },
  {
   "cell_type": "code",
   "execution_count": 35,
   "outputs": [
    {
     "data": {
      "text/plain": "0         63.01\n1          5.81\n2         38.91\n3         12.93\n4         26.89\n          ...  \n99995     10.12\n99996     68.31\n99997     10.87\n99998     29.68\n99999    195.41\nName: Fare, Length: 100000, dtype: float64"
     },
     "execution_count": 35,
     "metadata": {},
     "output_type": "execute_result"
    }
   ],
   "source": [
    "# In the variable `Fare` we replace `NaN` mean values over ticket classes\n",
    "train['Fare'] = train['Fare'].fillna(train.groupby('Pclass')['Fare'].transform('mean'))\n",
    "test['Fare'] = test['Fare'].fillna(test.groupby('Pclass')['Fare'].transform('mean'))\n",
    "test['Fare']"
   ],
   "metadata": {
    "collapsed": false,
    "pycharm": {
     "name": "#%%\n"
    }
   }
  },
  {
   "cell_type": "code",
   "execution_count": 36,
   "outputs": [],
   "source": [
    "test['Embarked'] = test['Embarked'].fillna('X')\n",
    "train['Embarked'] = train['Embarked'].fillna('X')"
   ],
   "metadata": {
    "collapsed": false,
    "pycharm": {
     "name": "#%%\n"
    }
   }
  },
  {
   "cell_type": "code",
   "execution_count": 37,
   "outputs": [
    {
     "name": "stdout",
     "output_type": "stream",
     "text": [
      "<class 'pandas.core.frame.DataFrame'>\n",
      "RangeIndex: 100000 entries, 0 to 99999\n",
      "Data columns (total 16 columns):\n",
      " #   Column           Non-Null Count   Dtype  \n",
      "---  ------           --------------   -----  \n",
      " 0   PassengerId      100000 non-null  int64  \n",
      " 1   Survived         100000 non-null  int64  \n",
      " 2   Pclass           100000 non-null  int64  \n",
      " 3   Name             100000 non-null  object \n",
      " 4   Sex              100000 non-null  object \n",
      " 5   Age              100000 non-null  float64\n",
      " 6   SibSp            100000 non-null  int64  \n",
      " 7   Parch            100000 non-null  int64  \n",
      " 8   Ticket           100000 non-null  int32  \n",
      " 9   Fare             100000 non-null  float64\n",
      " 10  Cabin            100000 non-null  object \n",
      " 11  Embarked         100000 non-null  object \n",
      " 12  First name       100000 non-null  object \n",
      " 13  Second name      100000 non-null  object \n",
      " 14  Letter prefixes  100000 non-null  object \n",
      " 15  Deck             100000 non-null  object \n",
      "dtypes: float64(2), int32(1), int64(5), object(8)\n",
      "memory usage: 11.8+ MB\n",
      "None \n",
      "\n",
      "<class 'pandas.core.frame.DataFrame'>\n",
      "RangeIndex: 100000 entries, 0 to 99999\n",
      "Data columns (total 15 columns):\n",
      " #   Column           Non-Null Count   Dtype  \n",
      "---  ------           --------------   -----  \n",
      " 0   PassengerId      100000 non-null  int64  \n",
      " 1   Pclass           100000 non-null  int64  \n",
      " 2   Name             100000 non-null  object \n",
      " 3   Sex              100000 non-null  object \n",
      " 4   Age              100000 non-null  float64\n",
      " 5   SibSp            100000 non-null  int64  \n",
      " 6   Parch            100000 non-null  int64  \n",
      " 7   Ticket           100000 non-null  int32  \n",
      " 8   Fare             100000 non-null  float64\n",
      " 9   Cabin            100000 non-null  object \n",
      " 10  Embarked         100000 non-null  object \n",
      " 11  First name       100000 non-null  object \n",
      " 12  Second name      100000 non-null  object \n",
      " 13  Letter prefixes  100000 non-null  object \n",
      " 14  Deck             100000 non-null  object \n",
      "dtypes: float64(2), int32(1), int64(4), object(8)\n",
      "memory usage: 11.1+ MB\n",
      "None \n",
      "\n"
     ]
    }
   ],
   "source": [
    "print(train.info(), '\\n')\n",
    "print(test.info(), '\\n')"
   ],
   "metadata": {
    "collapsed": false,
    "pycharm": {
     "name": "#%%\n"
    }
   }
  },
  {
   "cell_type": "code",
   "execution_count": 46,
   "outputs": [
    {
     "data": {
      "text/plain": "       PassengerId  Pclass                Name     Sex   Age  SibSp  Parch  \\\n0           100000       3    Holliday, Daniel    male  19.0      0      0   \n1           100001       3    Nguyen, Lorraine  female  53.0      0      0   \n2           100002       1     Harris, Heather  female  19.0      0      0   \n3           100003       2        Larsen, Eric    male  25.0      0      0   \n4           100004       1       Cleary, Sarah  female  17.0      0      2   \n...            ...     ...                 ...     ...   ...    ...    ...   \n99995       199995       3       Cash, Cheryle  female  27.0      0      0   \n99996       199996       1       Brown, Howard    male  59.0      1      0   \n99997       199997       3  Lightfoot, Cameron    male  47.0      0      0   \n99998       199998       1  Jacobsen, Margaret  female  49.0      1      2   \n99999       199999       1    Fishback, Joanna  female  41.0      0      2   \n\n        Ticket    Fare  Cabin Embarked First name Second name Letter prefixes  \\\n0        24745   63.01      0        S     Daniel    Holliday               n   \n1        13264    5.81      0        S   Lorraine      Nguyen               n   \n2        25990   38.91  15315        C    Heather      Harris               n   \n3       314011   12.93      0        S       Eric      Larsen               n   \n4        26203   26.89  22515        C      Sarah      Cleary               n   \n...        ...     ...    ...      ...        ...         ...             ...   \n99995     7686   10.12      0        Q    Cheryle        Cash               n   \n99996    13004   68.31      0        S     Howard       Brown               n   \n99997  4383317   10.87      0        S    Cameron   Lightfoot               n   \n99998    26988   29.68  20828        C   Margaret    Jacobsen              pc   \n99999    41824  195.41  13345        C     Joanna    Fishback              pc   \n\n      Deck  \n0        N  \n1        N  \n2        B  \n3        N  \n4        B  \n...    ...  \n99995    N  \n99996    N  \n99997    N  \n99998    B  \n99999    E  \n\n[100000 rows x 15 columns]",
      "text/html": "<div>\n<style scoped>\n    .dataframe tbody tr th:only-of-type {\n        vertical-align: middle;\n    }\n\n    .dataframe tbody tr th {\n        vertical-align: top;\n    }\n\n    .dataframe thead th {\n        text-align: right;\n    }\n</style>\n<table border=\"1\" class=\"dataframe\">\n  <thead>\n    <tr style=\"text-align: right;\">\n      <th></th>\n      <th>PassengerId</th>\n      <th>Pclass</th>\n      <th>Name</th>\n      <th>Sex</th>\n      <th>Age</th>\n      <th>SibSp</th>\n      <th>Parch</th>\n      <th>Ticket</th>\n      <th>Fare</th>\n      <th>Cabin</th>\n      <th>Embarked</th>\n      <th>First name</th>\n      <th>Second name</th>\n      <th>Letter prefixes</th>\n      <th>Deck</th>\n    </tr>\n  </thead>\n  <tbody>\n    <tr>\n      <th>0</th>\n      <td>100000</td>\n      <td>3</td>\n      <td>Holliday, Daniel</td>\n      <td>male</td>\n      <td>19.0</td>\n      <td>0</td>\n      <td>0</td>\n      <td>24745</td>\n      <td>63.01</td>\n      <td>0</td>\n      <td>S</td>\n      <td>Daniel</td>\n      <td>Holliday</td>\n      <td>n</td>\n      <td>N</td>\n    </tr>\n    <tr>\n      <th>1</th>\n      <td>100001</td>\n      <td>3</td>\n      <td>Nguyen, Lorraine</td>\n      <td>female</td>\n      <td>53.0</td>\n      <td>0</td>\n      <td>0</td>\n      <td>13264</td>\n      <td>5.81</td>\n      <td>0</td>\n      <td>S</td>\n      <td>Lorraine</td>\n      <td>Nguyen</td>\n      <td>n</td>\n      <td>N</td>\n    </tr>\n    <tr>\n      <th>2</th>\n      <td>100002</td>\n      <td>1</td>\n      <td>Harris, Heather</td>\n      <td>female</td>\n      <td>19.0</td>\n      <td>0</td>\n      <td>0</td>\n      <td>25990</td>\n      <td>38.91</td>\n      <td>15315</td>\n      <td>C</td>\n      <td>Heather</td>\n      <td>Harris</td>\n      <td>n</td>\n      <td>B</td>\n    </tr>\n    <tr>\n      <th>3</th>\n      <td>100003</td>\n      <td>2</td>\n      <td>Larsen, Eric</td>\n      <td>male</td>\n      <td>25.0</td>\n      <td>0</td>\n      <td>0</td>\n      <td>314011</td>\n      <td>12.93</td>\n      <td>0</td>\n      <td>S</td>\n      <td>Eric</td>\n      <td>Larsen</td>\n      <td>n</td>\n      <td>N</td>\n    </tr>\n    <tr>\n      <th>4</th>\n      <td>100004</td>\n      <td>1</td>\n      <td>Cleary, Sarah</td>\n      <td>female</td>\n      <td>17.0</td>\n      <td>0</td>\n      <td>2</td>\n      <td>26203</td>\n      <td>26.89</td>\n      <td>22515</td>\n      <td>C</td>\n      <td>Sarah</td>\n      <td>Cleary</td>\n      <td>n</td>\n      <td>B</td>\n    </tr>\n    <tr>\n      <th>...</th>\n      <td>...</td>\n      <td>...</td>\n      <td>...</td>\n      <td>...</td>\n      <td>...</td>\n      <td>...</td>\n      <td>...</td>\n      <td>...</td>\n      <td>...</td>\n      <td>...</td>\n      <td>...</td>\n      <td>...</td>\n      <td>...</td>\n      <td>...</td>\n      <td>...</td>\n    </tr>\n    <tr>\n      <th>99995</th>\n      <td>199995</td>\n      <td>3</td>\n      <td>Cash, Cheryle</td>\n      <td>female</td>\n      <td>27.0</td>\n      <td>0</td>\n      <td>0</td>\n      <td>7686</td>\n      <td>10.12</td>\n      <td>0</td>\n      <td>Q</td>\n      <td>Cheryle</td>\n      <td>Cash</td>\n      <td>n</td>\n      <td>N</td>\n    </tr>\n    <tr>\n      <th>99996</th>\n      <td>199996</td>\n      <td>1</td>\n      <td>Brown, Howard</td>\n      <td>male</td>\n      <td>59.0</td>\n      <td>1</td>\n      <td>0</td>\n      <td>13004</td>\n      <td>68.31</td>\n      <td>0</td>\n      <td>S</td>\n      <td>Howard</td>\n      <td>Brown</td>\n      <td>n</td>\n      <td>N</td>\n    </tr>\n    <tr>\n      <th>99997</th>\n      <td>199997</td>\n      <td>3</td>\n      <td>Lightfoot, Cameron</td>\n      <td>male</td>\n      <td>47.0</td>\n      <td>0</td>\n      <td>0</td>\n      <td>4383317</td>\n      <td>10.87</td>\n      <td>0</td>\n      <td>S</td>\n      <td>Cameron</td>\n      <td>Lightfoot</td>\n      <td>n</td>\n      <td>N</td>\n    </tr>\n    <tr>\n      <th>99998</th>\n      <td>199998</td>\n      <td>1</td>\n      <td>Jacobsen, Margaret</td>\n      <td>female</td>\n      <td>49.0</td>\n      <td>1</td>\n      <td>2</td>\n      <td>26988</td>\n      <td>29.68</td>\n      <td>20828</td>\n      <td>C</td>\n      <td>Margaret</td>\n      <td>Jacobsen</td>\n      <td>pc</td>\n      <td>B</td>\n    </tr>\n    <tr>\n      <th>99999</th>\n      <td>199999</td>\n      <td>1</td>\n      <td>Fishback, Joanna</td>\n      <td>female</td>\n      <td>41.0</td>\n      <td>0</td>\n      <td>2</td>\n      <td>41824</td>\n      <td>195.41</td>\n      <td>13345</td>\n      <td>C</td>\n      <td>Joanna</td>\n      <td>Fishback</td>\n      <td>pc</td>\n      <td>E</td>\n    </tr>\n  </tbody>\n</table>\n<p>100000 rows × 15 columns</p>\n</div>"
     },
     "execution_count": 46,
     "metadata": {},
     "output_type": "execute_result"
    }
   ],
   "source": [
    "test"
   ],
   "metadata": {
    "collapsed": false,
    "pycharm": {
     "name": "#%%\n"
    }
   }
  },
  {
   "cell_type": "markdown",
   "id": "9e6cae18",
   "metadata": {},
   "source": [
    "## Survival rate\n",
    "We want to analysis `Survival rate` depending on values of features. We calculate the survival rate by dividing the survived passengers with its own category observations.\n",
    "\n",
    "As we can see that\n",
    " - 58%, 52% and 25% of passengers with the 1st class tickets, the 2nd class tickets and the 3rd class tickets respectively were survived\n",
    " - 70% and 20% of females and males respectively were survived\n",
    " - chances for surviving of passengers which were in deck `F` and `G` is higher than for passengers on other decks\n",
    " - passengers with `Age` 20-40 have a lower chance to survive and passengers `Age` 40-60 have a higher chances to survive\n",
    " - passengers with lower `Fare` have a lower chance to survive\n",
    " - passengers with few relatives have more chances to survive\n",
    " - passengers embarked from `Cherbourg` had more chanced to survive"
   ]
  },
  {
   "cell_type": "code",
   "execution_count": 38,
   "id": "048aa7d2",
   "metadata": {
    "pycharm": {
     "name": "#%%\n"
    }
   },
   "outputs": [
    {
     "data": {
      "text/plain": "0    57226\n1    42774\nName: Survived, dtype: int64"
     },
     "execution_count": 38,
     "metadata": {},
     "output_type": "execute_result"
    }
   ],
   "source": [
    "train['Survived'].value_counts()"
   ]
  },
  {
   "cell_type": "code",
   "execution_count": 39,
   "outputs": [
    {
     "name": "stdout",
     "output_type": "stream",
     "text": [
      "       Survived       \n",
      "Double        0      1\n",
      "Pclass                \n",
      "1         12739  17576\n",
      "2         13622  15057\n",
      "3         30865  10141\n"
     ]
    },
    {
     "data": {
      "text/plain": "   Survived  Not Survived  Total  Percentage\n1     17576         12739  30315   57.977899\n2     15057         13622  28679   52.501831\n3     10141         30865  41006   24.730527",
      "text/html": "<div>\n<style scoped>\n    .dataframe tbody tr th:only-of-type {\n        vertical-align: middle;\n    }\n\n    .dataframe tbody tr th {\n        vertical-align: top;\n    }\n\n    .dataframe thead th {\n        text-align: right;\n    }\n</style>\n<table border=\"1\" class=\"dataframe\">\n  <thead>\n    <tr style=\"text-align: right;\">\n      <th></th>\n      <th>Survived</th>\n      <th>Not Survived</th>\n      <th>Total</th>\n      <th>Percentage</th>\n    </tr>\n  </thead>\n  <tbody>\n    <tr>\n      <th>1</th>\n      <td>17576</td>\n      <td>12739</td>\n      <td>30315</td>\n      <td>57.977899</td>\n    </tr>\n    <tr>\n      <th>2</th>\n      <td>15057</td>\n      <td>13622</td>\n      <td>28679</td>\n      <td>52.501831</td>\n    </tr>\n    <tr>\n      <th>3</th>\n      <td>10141</td>\n      <td>30865</td>\n      <td>41006</td>\n      <td>24.730527</td>\n    </tr>\n  </tbody>\n</table>\n</div>"
     },
     "execution_count": 39,
     "metadata": {},
     "output_type": "execute_result"
    }
   ],
   "source": [
    "# Calculation `Survival rate` over ticket class `Pclass`\n",
    "train['Double'] = train['Survived']\n",
    "pivot_table = train.pivot_table(values = ['Survived'], index = ['Pclass'], columns = ['Double'], aggfunc='count')\n",
    "\n",
    "print(pivot_table)\n",
    "\n",
    "p = pivot_table['Survived']\n",
    "s1 = pd.Series([p[1][1], p[1][2], p[1][3]])\n",
    "s2 = pd.Series([p[0][1], p[0][2], p[0][3]])\n",
    "df = pd.DataFrame(columns = ['Survived', 'Not Survived', 'Total'])\n",
    "df['Survived'] = s1\n",
    "df['Not Survived'] = s2\n",
    "df['Total'] = df['Survived'] + df['Not Survived']\n",
    "df['Percentage'] = df['Survived']/df['Total']*100\n",
    "df.index = df.index + 1\n",
    "df"
   ],
   "metadata": {
    "collapsed": false,
    "pycharm": {
     "name": "#%%\n"
    }
   }
  },
  {
   "cell_type": "code",
   "execution_count": 40,
   "outputs": [
    {
     "name": "stdout",
     "output_type": "stream",
     "text": [
      "       Survived       \n",
      "Double        0      1\n",
      "Sex                   \n",
      "female    12660  31226\n",
      "male      44566  11548\n"
     ]
    },
    {
     "data": {
      "text/plain": "        Survived  Not Survived  Total  Percentage\nfemale     31226         12660  43886   71.152532\nmale       11548         44566  56114   20.579535",
      "text/html": "<div>\n<style scoped>\n    .dataframe tbody tr th:only-of-type {\n        vertical-align: middle;\n    }\n\n    .dataframe tbody tr th {\n        vertical-align: top;\n    }\n\n    .dataframe thead th {\n        text-align: right;\n    }\n</style>\n<table border=\"1\" class=\"dataframe\">\n  <thead>\n    <tr style=\"text-align: right;\">\n      <th></th>\n      <th>Survived</th>\n      <th>Not Survived</th>\n      <th>Total</th>\n      <th>Percentage</th>\n    </tr>\n  </thead>\n  <tbody>\n    <tr>\n      <th>female</th>\n      <td>31226</td>\n      <td>12660</td>\n      <td>43886</td>\n      <td>71.152532</td>\n    </tr>\n    <tr>\n      <th>male</th>\n      <td>11548</td>\n      <td>44566</td>\n      <td>56114</td>\n      <td>20.579535</td>\n    </tr>\n  </tbody>\n</table>\n</div>"
     },
     "execution_count": 40,
     "metadata": {},
     "output_type": "execute_result"
    }
   ],
   "source": [
    "# Calculation `Survival rate` over `Sex`\n",
    "pivot_table = train.pivot_table(values = ['Survived'], index = ['Sex'], columns = ['Double'], aggfunc='count')\n",
    "\n",
    "print(pivot_table)\n",
    "p = pivot_table['Survived']\n",
    "s1 = pd.Series([p[0][0], p[0][1]])\n",
    "s2 = pd.Series([p[1][0], p[1][1]])\n",
    "df = pd.DataFrame(columns = ['Survived', 'Not Survived', 'Total'])\n",
    "df['Survived'] = s2\n",
    "df['Not Survived'] = s1\n",
    "df['Total'] = df['Survived'] + df['Not Survived']\n",
    "df['Percentage'] = df['Survived']/df['Total']*100\n",
    "df.index = ['female', 'male']\n",
    "df"
   ],
   "metadata": {
    "collapsed": false,
    "pycharm": {
     "name": "#%%\n"
    }
   }
  },
  {
   "cell_type": "code",
   "execution_count": 41,
   "outputs": [
    {
     "name": "stdout",
     "output_type": "stream",
     "text": [
      "       Survived       \n",
      "Double        0      1\n",
      "Deck                  \n",
      "A          4575   1732\n",
      "B          2751   4688\n",
      "C          3403   8422\n",
      "D           974   2663\n",
      "E           669   1080\n",
      "F           108    555\n",
      "G            79    403\n",
      "N         44649  23217\n",
      "T            18     14\n",
      "   Survived  Not Survived  Total  Percentage\n",
      "A      1732          4575   6307   27.461551\n",
      "B      4688          2751   7439   63.019223\n",
      "C      8422          3403  11825   71.221987\n",
      "D      2663           974   3637   73.219687\n",
      "E      1080           669   1749   61.749571\n",
      "F       555           108    663   83.710407\n",
      "G       403            79    482   83.609959\n",
      "N     23217         44649  67866   34.210061\n",
      "T        14            18     32   43.750000\n"
     ]
    }
   ],
   "source": [
    "# Calculation `Survival rate` over `Deck`\n",
    "pivot_table = train.pivot_table(values = ['Survived'], index = ['Deck'], columns = ['Double'], aggfunc='count')\n",
    "\n",
    "print(pivot_table)\n",
    "p = pivot_table['Survived']\n",
    "s1 = pd.Series([p[0][0], p[0][1], p[0][2], p[0][3], p[0][4], p[0][5], p[0][6], p[0][7], p[0][8]])\n",
    "s2 = pd.Series([p[1][0], p[1][1], p[1][2], p[1][3], p[1][4], p[1][5], p[1][6], p[1][7], p[1][8]])\n",
    "df = pd.DataFrame(columns = ['Survived', 'Not Survived', 'Total'])\n",
    "df['Survived'] = s2\n",
    "df['Not Survived'] = s1\n",
    "df['Total'] = df['Survived'] + df['Not Survived']\n",
    "df['Percentage'] = df['Survived']/df['Total']*100\n",
    "df.index = ['A', 'B', 'C', 'D', 'E', 'F', 'G', 'N', 'T']\n",
    "print(df)"
   ],
   "metadata": {
    "collapsed": false,
    "pycharm": {
     "name": "#%%\n"
    }
   }
  },
  {
   "cell_type": "code",
   "execution_count": 42,
   "outputs": [
    {
     "data": {
      "text/plain": "Text(0, 0.5, '')"
     },
     "execution_count": 42,
     "metadata": {},
     "output_type": "execute_result"
    },
    {
     "data": {
      "text/plain": "<Figure size 432x288 with 1 Axes>",
      "image/png": "[encoded data removed]"
     },
     "metadata": {
      "needs_background": "light"
     },
     "output_type": "display_data"
    }
   ],
   "source": [
    "# Assessing `Survival rate` over `Age`\n",
    "\n",
    "distr = sns.kdeplot(x=train[train['Survived'] == 1]['Age'], zorder=2, shade=False)\n",
    "distr = sns.kdeplot(x=train[train['Survived'] == 0]['Age'], zorder=2, shade=True)\n",
    "distr.set_xlabel('Age')\n",
    "distr.set_ylabel('')"
   ],
   "metadata": {
    "collapsed": false,
    "pycharm": {
     "name": "#%%\n"
    }
   }
  },
  {
   "cell_type": "code",
   "execution_count": 43,
   "outputs": [
    {
     "data": {
      "text/plain": "Text(0, 0.5, '')"
     },
     "execution_count": 43,
     "metadata": {},
     "output_type": "execute_result"
    },
    {
     "data": {
      "text/plain": "<Figure size 432x288 with 1 Axes>",
      "image/png": "[encoded data removed]"
     },
     "metadata": {
      "needs_background": "light"
     },
     "output_type": "display_data"
    }
   ],
   "source": [
    "# Assessing `Survival rate` over `Fare`\n",
    "\n",
    "distr = sns.kdeplot(x=train[train['Survived'] == 1]['Fare'], zorder=2, shade=False)\n",
    "distr = sns.kdeplot(x=train[train['Survived'] == 0]['Fare'], zorder=2, shade=True)\n",
    "distr.set_xlabel('Fare')\n",
    "distr.set_ylabel('')"
   ],
   "metadata": {
    "collapsed": false,
    "pycharm": {
     "name": "#%%\n"
    }
   }
  },
  {
   "cell_type": "code",
   "execution_count": 44,
   "outputs": [
    {
     "name": "stdout",
     "output_type": "stream",
     "text": [
      "       Survived       \n",
      "Double        0      1\n",
      "SibSp                 \n",
      "0         42017  31291\n",
      "1         11188   8570\n",
      "2          2022   1681\n",
      "3           981    654\n",
      "4           729    439\n",
      "5           107     25\n",
      "8           182    114\n",
      "   Survived  Not Survived  Total  Percentage\n",
      "0     31291         42017  73308   42.684291\n",
      "1      8570         11188  19758   43.374836\n",
      "2      1681          2022   3703   45.395625\n",
      "3       654           981   1635   40.000000\n",
      "4       439           729   1168   37.585616\n",
      "5        25           107    132   18.939394\n",
      "8       114           182    296   38.513514\n"
     ]
    }
   ],
   "source": [
    "# Calculation `Survival rate` over `SibSp`\n",
    "pivot_table = train.pivot_table(values = ['Survived'], index = ['SibSp'], columns = ['Double'], aggfunc='count')\n",
    "\n",
    "print(pivot_table)\n",
    "p = pivot_table['Survived']\n",
    "s1 = pd.Series([p[0][0], p[0][1], p[0][2], p[0][3], p[0][4], p[0][5], p[0][8]])\n",
    "s2 = pd.Series([p[1][0], p[1][1], p[1][2], p[1][3], p[1][4], p[1][5], p[1][8]])\n",
    "df = pd.DataFrame(columns = ['Survived', 'Not Survived', 'Total'])\n",
    "df['Survived'] = s2\n",
    "df['Not Survived'] = s1\n",
    "df['Total'] = df['Survived'] + df['Not Survived']\n",
    "df['Percentage'] = df['Survived']/df['Total']*100\n",
    "df.index = ['0', '1', '2', '3', '4', '5', '8']\n",
    "print(df)"
   ],
   "metadata": {
    "collapsed": false,
    "pycharm": {
     "name": "#%%\n"
    }
   }
  },
  {
   "cell_type": "code",
   "execution_count": 45,
   "outputs": [
    {
     "name": "stdout",
     "output_type": "stream",
     "text": [
      "         Survived       \n",
      "Double          0      1\n",
      "Embarked                \n",
      "C            5518  16669\n",
      "Q            2186   3238\n",
      "S           49394  22745\n",
      "X             128    122\n",
      "   Survived  Not Survived  Total  Percentage\n",
      "C     16669          5518  22187   75.129580\n",
      "Q      3238          2186   5424   59.697640\n",
      "S     22745         49394  72139   31.529409\n",
      "X       122           128    250   48.800000\n"
     ]
    }
   ],
   "source": [
    "# Calculation `Survival rate` over `Embarked`\n",
    "pivot_table = train.pivot_table(values = ['Survived'], index = ['Embarked'], columns = ['Double'], aggfunc='count')\n",
    "\n",
    "print(pivot_table)\n",
    "p = pivot_table['Survived']\n",
    "s1 = pd.Series([p[0][0], p[0][1], p[0][2], p[0][3]])\n",
    "s2 = pd.Series([p[1][0], p[1][1], p[1][2], p[1][3]])\n",
    "df = pd.DataFrame(columns = ['Survived', 'Not Survived', 'Total'])\n",
    "df['Survived'] = s2\n",
    "df['Not Survived'] = s1\n",
    "df['Total'] = df['Survived'] + df['Not Survived']\n",
    "df['Percentage'] = df['Survived']/df['Total']*100\n",
    "df.index = ['C', 'Q', 'S', 'X']\n",
    "print(df)"
   ],
   "metadata": {
    "collapsed": false,
    "pycharm": {
     "name": "#%%\n"
    }
   }
  },
  {
   "cell_type": "markdown",
   "id": "034945c8",
   "metadata": {
    "pycharm": {
     "name": "#%% md\n"
    }
   },
   "source": [
    "# Summary\n",
    "\n",
    "We conclude that\n",
    " - continuously variables are `Age`, `Fare`, `Ticket` (numerical parts of ticket numbers)\n",
    " - discrete variable are `Pclass`, `Name`, `Sex`, `SibSp`, `Parch`, `Letter prefixes` (letter parts of ticket numbers)\n",
    " - there are duplicated values of the variable `Ticket`, `Cabin` (in the both `train` and `test` datasets)\n",
    " - there are empty entries in the column `Ticket`\n",
    " - too much missing values in the column `Cabin`\n",
    "\n",
    "We transform data as follows:\n",
    " - we extract first names and last names from values of variable `Name` into new features `First name` and `Second name`\n",
    " - letter parts of `Ticket` numbers were extracted into new feature `Letter prefixes` and normalize, removed from `Ticket`\n",
    " - deck numbers from values of `Cabin` were extracted into new feature `Deck` and removed from `Cabin`\n",
    " - in the variable `Cabin` we replace `NaN` with new category `0`\n",
    " - in the variables `Age` and `Fare` we replace `NaN` mean values over ticket classes `Pclass`\n",
    " - in the variable `Embarked` we replace `NaN` by new category `X`\n",
    " - empty entries of the column `Ticket` we fill by `NaN`\n",
    " - in the column `Ticket` we replace `NaN` with mean value\n",
    "\n",
    "On the ship Titanic\n",
    " - males were more than females\n",
    " - passengers with the 3rd class ticket were more than ones with the 1st class ticket (the 2nd class ticket)\n",
    " - the number of passengers with the 1st class ticket and the 2nd class ticket almost coincided\n",
    " - approximately 70% of the total passengers on the ship without siblings/spouses\n",
    " - approximately 70% of the total passengers on the ship without parents/children\n",
    " - approximately 25% of the total tickets has a letter prefix in the number\n",
    " - most of the passengers are embarked from Southampton\n",
    " - top five first names of passengers: James, John, Robert, Michael, William\n",
    " - top five last names of passengers: Smith, Johnson, Williams, Jones, Brown\n",
    " - Survived passengers were less than not survived\n",
    " - 58%, 52% and 25% of passengers with the 1st class tickets, the 2nd class tickets and the 3rd class tickets respectively were survived.\n",
    " - chances for surviving is higher for passengers with the 1st and 2nd class tickets than for passengers with the 3rd class tickets\n",
    " - 70% and 20% of females and males respectively were survived\n",
    " - chances for surviving of females is higher than for males\n",
    " - chances for surviving of passengers which were on decks `F` and `G` is higher than for passengers on other decks\n",
    " - passengers with ages 20-40 have a lower chance to survive and passengers ages 40-60 have a higher chances to survive\n",
    " - passengers with lower fare have a lower chance to survive\n",
    " - passengers with few relatives have more chances to survive\n",
    " - passengers embarked from `Cherbourg` had more chanced to survive"
   ]
  }
 ],
 "metadata": {
  "kernelspec": {
   "display_name": "Python 3 (ipykernel)",
   "language": "python",
   "name": "python3"
  },
  "language_info": {
   "codemirror_mode": {
    "name": "ipython",
    "version": 3
   },
   "file_extension": ".py",
   "mimetype": "text/x-python",
   "name": "python",
   "nbconvert_exporter": "python",
   "pygments_lexer": "ipython3",
   "version": "3.9.7"
  },
  "toc": {
   "base_numbering": 1,
   "nav_menu": {},
   "number_sections": true,
   "sideBar": true,
   "skip_h1_title": false,
   "title_cell": "Table of Contents",
   "title_sidebar": "Contents",
   "toc_cell": false,
   "toc_position": {},
   "toc_section_display": true,
   "toc_window_display": false
  }
 },
 "nbformat": 4,
 "nbformat_minor": 5
}