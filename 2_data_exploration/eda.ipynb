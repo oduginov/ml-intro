{
 "cells": [
  {
   "cell_type": "code",
   "execution_count": 8,
   "id": "b489cb9e",
   "metadata": {},
   "outputs": [],
   "source": [
    "import pandas as pd\n",
    "\n",
    "pd.set_option('display.max_column', None)\n",
    "\n",
    "sample_submission = pd.read_csv('./sample_submission.csv')\n",
    "test = pd.read_csv('./test.csv')\n",
    "train = pd.read_csv('./train.csv')"
   ]
  },
  {
   "cell_type": "markdown",
   "id": "d07912a0",
   "metadata": {},
   "source": [
    "# Context"
   ]
  },
  {
   "cell_type": "code",
   "execution_count": 9,
   "id": "6b981d68",
   "metadata": {},
   "outputs": [
    {
     "data": {
      "text/plain": "       PassengerId  Pclass                Name     Sex   Age  SibSp  Parch  \\\n0           100000       3    Holliday, Daniel    male  19.0      0      0   \n1           100001       3    Nguyen, Lorraine  female  53.0      0      0   \n2           100002       1     Harris, Heather  female  19.0      0      0   \n3           100003       2        Larsen, Eric    male  25.0      0      0   \n4           100004       1       Cleary, Sarah  female  17.0      0      2   \n...            ...     ...                 ...     ...   ...    ...    ...   \n99995       199995       3       Cash, Cheryle  female  27.0      0      0   \n99996       199996       1       Brown, Howard    male  59.0      1      0   \n99997       199997       3  Lightfoot, Cameron    male  47.0      0      0   \n99998       199998       1  Jacobsen, Margaret  female  49.0      1      2   \n99999       199999       1    Fishback, Joanna  female  41.0      0      2   \n\n         Ticket    Fare   Cabin Embarked  \n0         24745   63.01     NaN        S  \n1         13264    5.81     NaN        S  \n2         25990   38.91  B15315        C  \n3        314011   12.93     NaN        S  \n4         26203   26.89  B22515        C  \n...         ...     ...     ...      ...  \n99995      7686   10.12     NaN        Q  \n99996     13004   68.31     NaN        S  \n99997   4383317   10.87     NaN        S  \n99998  PC 26988   29.68  B20828        C  \n99999  PC 41824  195.41  E13345        C  \n\n[100000 rows x 11 columns]",
      "text/html": "<div>\n<style scoped>\n    .dataframe tbody tr th:only-of-type {\n        vertical-align: middle;\n    }\n\n    .dataframe tbody tr th {\n        vertical-align: top;\n    }\n\n    .dataframe thead th {\n        text-align: right;\n    }\n</style>\n<table border=\"1\" class=\"dataframe\">\n  <thead>\n    <tr style=\"text-align: right;\">\n      <th></th>\n      <th>PassengerId</th>\n      <th>Pclass</th>\n      <th>Name</th>\n      <th>Sex</th>\n      <th>Age</th>\n      <th>SibSp</th>\n      <th>Parch</th>\n      <th>Ticket</th>\n      <th>Fare</th>\n      <th>Cabin</th>\n      <th>Embarked</th>\n    </tr>\n  </thead>\n  <tbody>\n    <tr>\n      <th>0</th>\n      <td>100000</td>\n      <td>3</td>\n      <td>Holliday, Daniel</td>\n      <td>male</td>\n      <td>19.0</td>\n      <td>0</td>\n      <td>0</td>\n      <td>24745</td>\n      <td>63.01</td>\n      <td>NaN</td>\n      <td>S</td>\n    </tr>\n    <tr>\n      <th>1</th>\n      <td>100001</td>\n      <td>3</td>\n      <td>Nguyen, Lorraine</td>\n      <td>female</td>\n      <td>53.0</td>\n      <td>0</td>\n      <td>0</td>\n      <td>13264</td>\n      <td>5.81</td>\n      <td>NaN</td>\n      <td>S</td>\n    </tr>\n    <tr>\n      <th>2</th>\n      <td>100002</td>\n      <td>1</td>\n      <td>Harris, Heather</td>\n      <td>female</td>\n      <td>19.0</td>\n      <td>0</td>\n      <td>0</td>\n      <td>25990</td>\n      <td>38.91</td>\n      <td>B15315</td>\n      <td>C</td>\n    </tr>\n    <tr>\n      <th>3</th>\n      <td>100003</td>\n      <td>2</td>\n      <td>Larsen, Eric</td>\n      <td>male</td>\n      <td>25.0</td>\n      <td>0</td>\n      <td>0</td>\n      <td>314011</td>\n      <td>12.93</td>\n      <td>NaN</td>\n      <td>S</td>\n    </tr>\n    <tr>\n      <th>4</th>\n      <td>100004</td>\n      <td>1</td>\n      <td>Cleary, Sarah</td>\n      <td>female</td>\n      <td>17.0</td>\n      <td>0</td>\n      <td>2</td>\n      <td>26203</td>\n      <td>26.89</td>\n      <td>B22515</td>\n      <td>C</td>\n    </tr>\n    <tr>\n      <th>...</th>\n      <td>...</td>\n      <td>...</td>\n      <td>...</td>\n      <td>...</td>\n      <td>...</td>\n      <td>...</td>\n      <td>...</td>\n      <td>...</td>\n      <td>...</td>\n      <td>...</td>\n      <td>...</td>\n    </tr>\n    <tr>\n      <th>99995</th>\n      <td>199995</td>\n      <td>3</td>\n      <td>Cash, Cheryle</td>\n      <td>female</td>\n      <td>27.0</td>\n      <td>0</td>\n      <td>0</td>\n      <td>7686</td>\n      <td>10.12</td>\n      <td>NaN</td>\n      <td>Q</td>\n    </tr>\n    <tr>\n      <th>99996</th>\n      <td>199996</td>\n      <td>1</td>\n      <td>Brown, Howard</td>\n      <td>male</td>\n      <td>59.0</td>\n      <td>1</td>\n      <td>0</td>\n      <td>13004</td>\n      <td>68.31</td>\n      <td>NaN</td>\n      <td>S</td>\n    </tr>\n    <tr>\n      <th>99997</th>\n      <td>199997</td>\n      <td>3</td>\n      <td>Lightfoot, Cameron</td>\n      <td>male</td>\n      <td>47.0</td>\n      <td>0</td>\n      <td>0</td>\n      <td>4383317</td>\n      <td>10.87</td>\n      <td>NaN</td>\n      <td>S</td>\n    </tr>\n    <tr>\n      <th>99998</th>\n      <td>199998</td>\n      <td>1</td>\n      <td>Jacobsen, Margaret</td>\n      <td>female</td>\n      <td>49.0</td>\n      <td>1</td>\n      <td>2</td>\n      <td>PC 26988</td>\n      <td>29.68</td>\n      <td>B20828</td>\n      <td>C</td>\n    </tr>\n    <tr>\n      <th>99999</th>\n      <td>199999</td>\n      <td>1</td>\n      <td>Fishback, Joanna</td>\n      <td>female</td>\n      <td>41.0</td>\n      <td>0</td>\n      <td>2</td>\n      <td>PC 41824</td>\n      <td>195.41</td>\n      <td>E13345</td>\n      <td>C</td>\n    </tr>\n  </tbody>\n</table>\n<p>100000 rows × 11 columns</p>\n</div>"
     },
     "execution_count": 9,
     "metadata": {},
     "output_type": "execute_result"
    }
   ],
   "source": [
    "test"
   ]
  },
  {
   "cell_type": "markdown",
   "id": "9b4320c6",
   "metadata": {},
   "source": [
    "# Data quality assessment"
   ]
  },
  {
   "cell_type": "code",
   "execution_count": null,
   "id": "e443ca82",
   "metadata": {},
   "outputs": [],
   "source": []
  },
  {
   "cell_type": "markdown",
   "id": "5408eca5",
   "metadata": {},
   "source": [
    "# Data exploration"
   ]
  },
  {
   "cell_type": "code",
   "execution_count": null,
   "id": "2417286d",
   "metadata": {},
   "outputs": [],
   "source": []
  },
  {
   "cell_type": "markdown",
   "id": "034945c8",
   "metadata": {},
   "source": [
    "# Summary"
   ]
  },
  {
   "cell_type": "code",
   "execution_count": null,
   "id": "72e3fb13",
   "metadata": {},
   "outputs": [],
   "source": []
  }
 ],
 "metadata": {
  "kernelspec": {
   "display_name": "Python 3 (ipykernel)",
   "language": "python",
   "name": "python3"
  },
  "language_info": {
   "codemirror_mode": {
    "name": "ipython",
    "version": 3
   },
   "file_extension": ".py",
   "mimetype": "text/x-python",
   "name": "python",
   "nbconvert_exporter": "python",
   "pygments_lexer": "ipython3",
   "version": "3.8.12"
  },
  "toc": {
   "base_numbering": 1,
   "nav_menu": {},
   "number_sections": true,
   "sideBar": true,
   "skip_h1_title": false,
   "title_cell": "Table of Contents",
   "title_sidebar": "Contents",
   "toc_cell": false,
   "toc_position": {},
   "toc_section_display": true,
   "toc_window_display": false
  }
 },
 "nbformat": 4,
 "nbformat_minor": 5
}