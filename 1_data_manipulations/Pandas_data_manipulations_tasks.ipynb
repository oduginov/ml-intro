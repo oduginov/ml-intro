{
 "cells": [
  {
   "cell_type": "markdown",
   "id": "6d6010da",
   "metadata": {},
   "source": [
    "# How to complete this assignment\n",
    "First, download [this Kaggle dataset](https://www.kaggle.com/hugomathien/soccer) and extract *sqlite* database. You may need to register at https://www.kaggle.com/ beforehand. Then complete 15 graded tasks below, the score is given in brackets. Finally submit the resulting `.ipynb` file to rs-app Auto-test.\n",
    "\n",
    "- Do not delete or rename the variables given before the inscription `#your code here`, they are needed for the correct verification.\n",
    "- Do not change the code in the last Notebook cell, it is required for the server check.\n",
    "- Your Notebook must run completely without errors to be graded! Please check everything before submission by going *Cell -> Run All*"
   ]
  },
  {
   "cell_type": "markdown",
   "id": "0dbd5f9a",
   "metadata": {},
   "source": [
    "## Some important notes\n",
    "- If you need to **calculate the number of \"something\"** that means we expect you to assign an Integer to the given variable\n",
    "- If you need to **make a list of \"something\"** we expect you to assign a Python list with appropriate values to the given variable\n",
    "- If you need to find a **specifiс player, day of the week, team, etc.** we expect you to assign a String with the full name of the entity to the given variable (`player_name`, day of week full name, `team_name`, etc.)"
   ]
  },
  {
   "cell_type": "code",
   "execution_count": 1,
   "id": "f52b1bac",
   "metadata": {},
   "outputs": [],
   "source": [
    "import sqlite3\n",
    "import pandas as pd\n",
    "import os\n",
    "\n",
    "pd.set_option('display.max_column', None)"
   ]
  },
  {
   "cell_type": "code",
   "execution_count": 2,
   "id": "8ebe6afd",
   "metadata": {},
   "outputs": [],
   "source": [
    "# Leave that code unchanged, it is required for the server check!\n",
    "db = sqlite3.connect(os.environ.get(\"DB_PATH\") or 'database.sqlite')"
   ]
  },
  {
   "cell_type": "code",
   "execution_count": 3,
   "id": "9860d0d0",
   "metadata": {},
   "outputs": [],
   "source": [
    "# You may load the data from SQL table directly to the Pandas dataframe as\n",
    "player_data = pd.read_sql(\"SELECT * FROM Player;\", db)\n",
    "league_data = pd.read_sql(\"SELECT * FROM League;\", db)\n",
    "match_data = pd.read_sql(\"SELECT * FROM Match;\", db)\n",
    "player_attributes_data = pd.read_sql(\"SELECT * FROM Player_Attributes;\", db)\n",
    "team_data = pd.read_sql(\"SELECT * FROM Team;\", db)"
   ]
  },
  {
   "cell_type": "code",
   "execution_count": 4,
   "id": "7e69a7af",
   "metadata": {},
   "outputs": [
    {
     "data": {
      "text/plain": "   id  player_api_id         player_name  player_fifa_api_id  \\\n0   1         505942  Aaron Appindangoye              218353   \n1   2         155782     Aaron Cresswell              189615   \n2   3         162549         Aaron Doran              186170   \n3   4          30572       Aaron Galindo              140161   \n4   5          23780        Aaron Hughes               17725   \n\n              birthday  height  weight  \n0  1992-02-29 00:00:00  182.88     187  \n1  1989-12-15 00:00:00  170.18     146  \n2  1991-05-13 00:00:00  170.18     163  \n3  1982-05-08 00:00:00  182.88     198  \n4  1979-11-08 00:00:00  182.88     154  ",
      "text/html": "<div>\n<style scoped>\n    .dataframe tbody tr th:only-of-type {\n        vertical-align: middle;\n    }\n\n    .dataframe tbody tr th {\n        vertical-align: top;\n    }\n\n    .dataframe thead th {\n        text-align: right;\n    }\n</style>\n<table border=\"1\" class=\"dataframe\">\n  <thead>\n    <tr style=\"text-align: right;\">\n      <th></th>\n      <th>id</th>\n      <th>player_api_id</th>\n      <th>player_name</th>\n      <th>player_fifa_api_id</th>\n      <th>birthday</th>\n      <th>height</th>\n      <th>weight</th>\n    </tr>\n  </thead>\n  <tbody>\n    <tr>\n      <th>0</th>\n      <td>1</td>\n      <td>505942</td>\n      <td>Aaron Appindangoye</td>\n      <td>218353</td>\n      <td>1992-02-29 00:00:00</td>\n      <td>182.88</td>\n      <td>187</td>\n    </tr>\n    <tr>\n      <th>1</th>\n      <td>2</td>\n      <td>155782</td>\n      <td>Aaron Cresswell</td>\n      <td>189615</td>\n      <td>1989-12-15 00:00:00</td>\n      <td>170.18</td>\n      <td>146</td>\n    </tr>\n    <tr>\n      <th>2</th>\n      <td>3</td>\n      <td>162549</td>\n      <td>Aaron Doran</td>\n      <td>186170</td>\n      <td>1991-05-13 00:00:00</td>\n      <td>170.18</td>\n      <td>163</td>\n    </tr>\n    <tr>\n      <th>3</th>\n      <td>4</td>\n      <td>30572</td>\n      <td>Aaron Galindo</td>\n      <td>140161</td>\n      <td>1982-05-08 00:00:00</td>\n      <td>182.88</td>\n      <td>198</td>\n    </tr>\n    <tr>\n      <th>4</th>\n      <td>5</td>\n      <td>23780</td>\n      <td>Aaron Hughes</td>\n      <td>17725</td>\n      <td>1979-11-08 00:00:00</td>\n      <td>182.88</td>\n      <td>154</td>\n    </tr>\n  </tbody>\n</table>\n</div>"
     },
     "execution_count": 4,
     "metadata": {},
     "output_type": "execute_result"
    }
   ],
   "source": [
    "player_data.head()"
   ]
  },
  {
   "cell_type": "markdown",
   "id": "f8b23f3a",
   "metadata": {},
   "source": [
    "**Task 1 (0.25 point).** Calculate the number of players with a height between 180 and 190 inclusive"
   ]
  },
  {
   "cell_type": "code",
   "execution_count": 5,
   "id": "7cd6f780",
   "metadata": {},
   "outputs": [],
   "source": [
    "players_180_190 = player_data[(player_data[\"height\"] >= 180) &\n",
    "                              (player_data[\"height\"] <= 190)].shape[0]"
   ]
  },
  {
   "cell_type": "markdown",
   "id": "5a39f3bc",
   "metadata": {},
   "source": [
    "**Task 2 (0.25 point).** Calculate the number of players born in 1980. <br>\n",
    "**Hint:** you may want to cast your 'birthday' column to DateTime type by [pandas.to_datetime](https://pandas.pydata.org/docs/reference/api/pandas.to_datetime.html)"
   ]
  },
  {
   "cell_type": "code",
   "execution_count": 6,
   "id": "ff21f7a2",
   "metadata": {},
   "outputs": [],
   "source": [
    "player_data[\"birthday\"] = pd.to_datetime(player_data[\"birthday\"])\n",
    "players_1980 = player_data[player_data[\"birthday\"].dt.year == 1980].shape[0]"
   ]
  },
  {
   "cell_type": "markdown",
   "id": "70d1dea0",
   "metadata": {},
   "source": [
    "**Task 3 (0.25 point).** Make a list of the top 10 players with the highest weight sorted in descending order. If there are several players with the same weight put them in the lexicographic order by name."
   ]
  },
  {
   "cell_type": "code",
   "execution_count": 7,
   "id": "b0dbdaf5",
   "metadata": {},
   "outputs": [],
   "source": [
    "x = player_data.sort_values(by = [\"weight\", \"player_name\"], ascending = [False, True])[\"player_name\"][0:10]\n",
    "highest_players = x.to_list()"
   ]
  },
  {
   "cell_type": "markdown",
   "id": "ff30607f",
   "metadata": {},
   "source": [
    "**Task 4 (0.5 point).** Make a list of tuples containing years along with the number of players born in that year from 1980 up to 1990. <br>\n",
    "**Structure example**: [(1980, 123), (1981, 140) ..., (1990, 83)] -> There were born 123 players in 1980, there were born 140 players in 1981 and etc."
   ]
  },
  {
   "cell_type": "code",
   "execution_count": 8,
   "id": "9b609f1c",
   "metadata": {},
   "outputs": [
    {
     "data": {
      "text/plain": [
       "[(1980, 434),\n",
       " (1981, 475),\n",
       " (1982, 487),\n",
       " (1983, 541),\n",
       " (1984, 607),\n",
       " (1985, 593),\n",
       " (1986, 710),\n",
       " (1987, 722),\n",
       " (1988, 802),\n",
       " (1989, 723),\n",
       " (1990, 696)]"
      ]
     },
     "execution_count": 8,
     "metadata": {},
     "output_type": "execute_result"
    }
   ],
   "source": [
    "x = pd.DataFrame(player_data[(player_data[\"birthday\"].dt.year >= 1980) & (player_data[\"birthday\"].dt.year <= 1990)])\n",
    "x[\"year\"] = player_data[\"birthday\"].dt.year\n",
    "x[\"id\"] = 1\n",
    "grouped = x[\"id\"].groupby(x[\"year\"]).sum()\n",
    "years_born_players = list(pd.DataFrame({'y': grouped.index, 's': grouped.values}).to_records(index=False))\n",
    "years_born_players"
   ]
  },
  {
   "cell_type": "markdown",
   "id": "33cbd931",
   "metadata": {},
   "source": [
    "**Task 5 (0.5 point).** Calculate the mean and the standard deviation of the players' **height** with the name **Adriano**. <br>\n",
    "**Note:** Name is represented by the first part of `player_name`."
   ]
  },
  {
   "cell_type": "code",
   "execution_count": 9,
   "id": "614fac31",
   "metadata": {},
   "outputs": [
    {
     "data": {
      "text/plain": [
       "(182.11800000000002, 5.361479480723788)"
      ]
     },
     "execution_count": 9,
     "metadata": {},
     "output_type": "execute_result"
    }
   ],
   "source": [
    "x = player_data\n",
    "x[\"name\"] = x[\"player_name\"].str[0:7]\n",
    "x = x[x[\"name\"] == \"Adriano\"]\n",
    "adriano_mean, adriano_std = x[\"height\"].mean(), x[\"height\"].std()\n",
    "adriano_mean, adriano_std"
   ]
  },
  {
   "cell_type": "markdown",
   "id": "8a361dfd",
   "metadata": {},
   "source": [
    "**Task 6 (0.75 point).** How many players were born on each day of the week? Find the day of the week with the minimum number of players born."
   ]
  },
  {
   "cell_type": "code",
   "execution_count": 10,
   "id": "c140be4f",
   "metadata": {},
   "outputs": [],
   "source": [
    "days = [\"Monday\", \"Tuesday\", \"Wednesday\", \"Thursday\", \"Friday\", \"Saturday\", \"Sunday\"]\n",
    "x = player_data\n",
    "\n",
    "x[\"day\"] = x[\"birthday\"].dt.dayofweek\n",
    "grouped = x[\"id\"].groupby(x[\"day\"]).sum()\n",
    "\n",
    "dow_with_min_players_born = days[grouped.idxmin()]"
   ]
  },
  {
   "cell_type": "markdown",
   "id": "dc7428be",
   "metadata": {},
   "source": [
    "**Task 7 (0.75 point).** Find a league with the most matches in total. If there are several leagues with the same amount of matches, take the first in the lexical order."
   ]
  },
  {
   "cell_type": "code",
   "execution_count": 11,
   "id": "ff3113ac",
   "metadata": {},
   "outputs": [
    {
     "data": {
      "text/plain": [
       "'England Premier League'"
      ]
     },
     "execution_count": 11,
     "metadata": {},
     "output_type": "execute_result"
    }
   ],
   "source": [
    "m = match_data\n",
    "m[\"ident\"] = 1\n",
    "l = league_data\n",
    "grouped_by_leagues = m[\"ident\"].groupby(m[\"league_id\"]).sum()\n",
    "l[\"total_matches\"] = grouped_by_leagues.values\n",
    "l = l.sort_values(by = [\"total_matches\", \"name\"], ascending = [False, True])\n",
    "league_most_matches = l[0:1][\"name\"].to_list()[0]\n",
    "league_most_matches"
   ]
  },
  {
   "cell_type": "markdown",
   "id": "97199b7d",
   "metadata": {},
   "source": [
    "**Task 8 (1.25 point).** Find a player who participated in the largest number of matches during the whole match history. Assign a `player_name` to the given variable"
   ]
  },
  {
   "cell_type": "code",
   "execution_count": 12,
   "id": "ec31bc69",
   "metadata": {},
   "outputs": [
    {
     "data": {
      "text/plain": [
       "'Steve Mandanda'"
      ]
     },
     "execution_count": 12,
     "metadata": {},
     "output_type": "execute_result"
    }
   ],
   "source": [
    "s = pd.concat([match_data[\"home_player_1\"], match_data[\"home_player_2\"]])\n",
    "s = pd.concat([s, match_data[\"home_player_3\"]])\n",
    "s = pd.concat([s, match_data[\"home_player_4\"]])\n",
    "s = pd.concat([s, match_data[\"home_player_5\"]])\n",
    "s = pd.concat([s, match_data[\"home_player_6\"]])\n",
    "s = pd.concat([s, match_data[\"home_player_7\"]])\n",
    "s = pd.concat([s, match_data[\"home_player_8\"]])\n",
    "s = pd.concat([s, match_data[\"home_player_9\"]])\n",
    "s = pd.concat([s, match_data[\"home_player_10\"]])\n",
    "s = pd.concat([s, match_data[\"home_player_11\"]])\n",
    "\n",
    "s = pd.concat([s, match_data[\"away_player_1\"]])\n",
    "s = pd.concat([s, match_data[\"away_player_2\"]])\n",
    "s = pd.concat([s, match_data[\"away_player_3\"]])\n",
    "s = pd.concat([s, match_data[\"away_player_4\"]])\n",
    "s = pd.concat([s, match_data[\"away_player_5\"]])\n",
    "s = pd.concat([s, match_data[\"away_player_6\"]])\n",
    "s = pd.concat([s, match_data[\"away_player_7\"]])\n",
    "s = pd.concat([s, match_data[\"away_player_8\"]])\n",
    "s = pd.concat([s, match_data[\"away_player_9\"]])\n",
    "s = pd.concat([s, match_data[\"away_player_10\"]])\n",
    "s = pd.concat([s, match_data[\"away_player_11\"]])\n",
    "\n",
    "df = pd.DataFrame(s)\n",
    "df[\"ident\"] = 1\n",
    "df\n",
    "grouped = df[\"ident\"].groupby(df[0]).sum().sort_values()\n",
    "# grouped#.index[0]\n",
    "#player_data[player_data[\"player_api_id\"] == grouped.index[0]][\"player_name\"].to_list()[0]\n",
    "id = grouped.idxmax()\n",
    "id\n",
    "max_matches_player = player_data[player_data[\"player_api_id\"] == id][\"player_name\"].to_list()[0]\n",
    "max_matches_player"
   ]
  },
  {
   "cell_type": "markdown",
   "id": "dbc68bfe",
   "metadata": {},
   "source": [
    "**Task 9 (1.5 point).** List top-5 tuples of most correlated **player's characteristics** in the descending order of the absolute [Pearson's coefficient](https://en.wikipedia.org/wiki/Pearson_correlation_coefficient) value.\n",
    "\n",
    "**Note 1:** Players characteristics are all the columns in `Player_Attributes` table except `[id, player_fifa_api_id, player_api_id, date, preferred_foot, attacking_work_rate, defensive_work_rate]`). <br>\n",
    "**Note 2:** Exclude duplicated pairs from the list. E.g. ('gk_handling', 'gk_reflexes') and ('gk_reflexes', 'gk_handling') are duplicates, leave just one of them in the resulting list.\n",
    "\n",
    "**Hint:** You may use [dataframe.corr()](https://pandas.pydata.org/docs/reference/api/pandas.DataFrame.corr.html) for calculating pairwise Pearson correlation."
   ]
  },
  {
   "cell_type": "code",
   "execution_count": 13,
   "id": "47c1412e",
   "metadata": {},
   "outputs": [
    {
     "data": {
      "text/plain": [
       "[('gk_reflexes', 'gk_positioning'),\n",
       " ('gk_reflexes', 'gk_handling'),\n",
       " ('gk_positioning', 'gk_handling'),\n",
       " ('standing_tackle', 'sliding_tackle'),\n",
       " ('marking', 'standing_tackle')]"
      ]
     },
     "execution_count": 13,
     "metadata": {},
     "output_type": "execute_result"
    }
   ],
   "source": [
    "x = player_attributes_data\n",
    "x = x.drop(columns = [ \"id\", \"player_fifa_api_id\", \"player_api_id\", \"date\", \"preferred_foot\", \"attacking_work_rate\", \"defensive_work_rate\"])\n",
    "abs_pearson = x.corr(method=\"pearson\").abs()\n",
    "s = abs_pearson.unstack()\n",
    "s = s[s!=1]\n",
    "so = s.sort_values(kind=\"quicksort\", ascending=False)\n",
    "top_five = so[0:10:2]\n",
    "top_correlated_features = top_five.index.to_list()\n",
    "top_correlated_features"
   ]
  },
  {
   "cell_type": "markdown",
   "id": "7d3d8fd3",
   "metadata": {},
   "source": [
    "**Task 10 (2 points).** Find top-5 most similar players to **Neymar** whose names are given. The similarity is measured as [Euclidean distance](https://en.wikipedia.org/wiki/Euclidean_distance) between vectors of players' characteristics (described in the task above). Put their names in a vector in ascending order by Euclidean distance and sorted by `player_name` if the distance is the same<br>\n",
    "**Note 1:** There are many records for some players in the `Player_Attributes` table. You need to take the freshest data (characteristics with the most recent `date`). <br>\n",
    "**Note 2:** Use pure values of the characteristics even if you are aware of such preprocessing technics as normalization. <br>\n",
    "**Note 3:** Please avoid using any built-in methods for calculating the Euclidean distance between vectors, think about implementing your own."
   ]
  },
  {
   "cell_type": "code",
   "execution_count": 14,
   "id": "fac5a571",
   "metadata": {},
   "outputs": [
    {
     "data": {
      "text/plain": [
       "['Paulo Dybala',\n",
       " 'Eden Hazard',\n",
       " 'Giovani dos Santos',\n",
       " 'Arjen Robben',\n",
       " 'Lionel Messi']"
      ]
     },
     "execution_count": 14,
     "metadata": {},
     "output_type": "execute_result"
    }
   ],
   "source": [
    "import scipy\n",
    "\n",
    "from scipy.spatial import distance\n",
    "\n",
    "x = player_attributes_data#.drop(columns=[\"ident\"])\n",
    "\n",
    "#print(player_data[player_data[\"name\"] == \"Neymar\"])\n",
    "\n",
    "drop_list = [\"id\", \"player_fifa_api_id\", \"player_api_id\", \"date\", \"preferred_foot\", \"attacking_work_rate\", \"defensive_work_rate\"]\n",
    "\n",
    "x.groupby(['player_api_id'], sort=False)['date'].max()\n",
    "idx = x.groupby(['player_api_id'])['date'].transform(max) == x['date']\n",
    "x = x[idx]\n",
    "\n",
    "y = player_data\n",
    "y[\"name\"] = y[\"player_name\"].str[0:6]\n",
    "neymar_id = y[y[\"name\"] == \"Neymar\"][\"player_api_id\"].to_list()[0]\n",
    "\n",
    "#print(neymar_id)\n",
    "\n",
    "neymar = x[x[\"player_api_id\"] == neymar_id]\n",
    "\n",
    "#print(neymar)\n",
    "\n",
    "\n",
    "\n",
    "x = x.drop(columns = drop_list)\n",
    "neymar = neymar.drop(columns = drop_list)\n",
    "\n",
    "#x.loc[[131464]]\n",
    "#distance.cdist(x.loc[[131464]], neymar, 'euclidean')\n",
    "\n",
    "\n",
    "#neymar\n",
    "\n",
    "distances = distance.cdist(neymar.to_numpy(), x.to_numpy(), 'euclidean') # x.to_numpy()\n",
    "# distances[0][0:1000]\n",
    "# x.index\n",
    "series = pd.Series(data = distances[0], index = x.index)\n",
    "#series = series.sort_values()\n",
    "series\n",
    "\n",
    "x[\"dist\"] = series\n",
    "x = x.sort_values(by = \"dist\")\n",
    "ind = x.index[1:6] # 131454, 140773, 47247, 64607\n",
    "ids = player_attributes_data.iloc[ind][\"player_api_id\"]#.to_list()\n",
    "#print(ids)\n",
    "result = player_data.loc[player_data[\"player_api_id\"].isin(ids)]\n",
    "#print(result)\n",
    "df = pd.DataFrame(ids)\n",
    "df=df.merge(result, how='left', on='player_api_id')\n",
    "\n",
    "\n",
    "neymar_similarities = df[\"player_name\"].to_list()\n",
    "neymar_similarities"
   ]
  },
  {
   "cell_type": "markdown",
   "id": "a3a7f878",
   "metadata": {},
   "source": [
    "**Task 11 (1 point).** Calculate the number of home matches played by the **Borussia Dortmund** team in **Germany 1. Bundesliga** in season **2008/2009**"
   ]
  },
  {
   "cell_type": "code",
   "execution_count": 15,
   "id": "bdf5a267",
   "metadata": {},
   "outputs": [
    {
     "data": {
      "text/plain": [
       "17"
      ]
     },
     "execution_count": 15,
     "metadata": {},
     "output_type": "execute_result"
    }
   ],
   "source": [
    "league_data\n",
    "id_german_bundesliga = league_data[league_data[\"name\"] == \"Germany 1. Bundesliga\"][\"id\"].to_list()[0]\n",
    "id_german_bundesliga\n",
    "\n",
    "id_bor = team_data[team_data[\"team_long_name\"] == \"Borussia Dortmund\"]\n",
    "id_bor = id_bor[\"team_api_id\"].to_list()[0]\n",
    "id_bor\n",
    "\n",
    "borussia_bundesliga_2008_2009_matches = match_data[(match_data[\"league_id\"] == id_german_bundesliga) & (match_data[\"season\"] == \"2008/2009\") & (match_data[\"home_team_api_id\"] == id_bor)].shape[0]\n",
    "borussia_bundesliga_2008_2009_matches"
   ]
  },
  {
   "cell_type": "markdown",
   "id": "69dca9a5",
   "metadata": {},
   "source": [
    "**Task 12 (1 point).** Find a team having the most matches (both home and away!) in the **Germany 1. Bundesliga** in **2008/2009** season. Return number of matches."
   ]
  },
  {
   "cell_type": "code",
   "execution_count": 16,
   "id": "9969ba5c",
   "metadata": {},
   "outputs": [
    {
     "data": {
      "text/plain": [
       "34"
      ]
     },
     "execution_count": 16,
     "metadata": {},
     "output_type": "execute_result"
    }
   ],
   "source": [
    "league_data\n",
    "id_german_bundesliga = league_data[league_data[\"name\"] == \"Germany 1. Bundesliga\"][\"id\"].to_list()[0]\n",
    "id_german_bundesliga\n",
    "\n",
    "years = \"2008/2009\"\n",
    "\n",
    "df = match_data[(match_data[\"league_id\"] == id_german_bundesliga) & (match_data[\"season\"] == years)]\n",
    "\n",
    "s = pd.concat([df[\"home_team_api_id\"], df[\"away_team_api_id\"]])\n",
    "\n",
    "team_most_matches_bundesliga_2008_2009 = s.value_counts().max()\n",
    "team_most_matches_bundesliga_2008_2009"
   ]
  },
  {
   "cell_type": "markdown",
   "id": "2f3c65aa",
   "metadata": {},
   "source": [
    "**Task 13 (1 point).** Count total number of **Arsenal** matches (both home and away!) in the **2015/2016** season which they have won. <br><br>\n",
    "**Note:** Winning a game means scoring **more** goals than an opponent."
   ]
  },
  {
   "cell_type": "code",
   "execution_count": 17,
   "id": "52456f34",
   "metadata": {},
   "outputs": [
    {
     "data": {
      "text/plain": [
       "20"
      ]
     },
     "execution_count": 17,
     "metadata": {},
     "output_type": "execute_result"
    }
   ],
   "source": [
    "id_ars = team_data[team_data[\"team_long_name\"] == \"Arsenal\"]\n",
    "id_ars = id_ars[\"team_api_id\"].to_list()[0]\n",
    "id_ars\n",
    "\n",
    "df = match_data[ (match_data[\"home_team_api_id\"] == id_ars) & (match_data[\"season\"] == \"2015/2016\")]\n",
    "df = df[df[\"home_team_goal\"] - df[\"away_team_goal\"] > 0]\n",
    "\n",
    "x = df.shape[0]\n",
    "x\n",
    "\n",
    "df = match_data[ (match_data[\"away_team_api_id\"] == id_ars) & (match_data[\"season\"] == \"2015/2016\")]\n",
    "df = df[df[\"home_team_goal\"] - df[\"away_team_goal\"] < 0]\n",
    "\n",
    "y = df.shape[0]\n",
    "y\n",
    "\n",
    "arsenal_won_matches_2015_2016 = x + y\n",
    "arsenal_won_matches_2015_2016"
   ]
  },
  {
   "cell_type": "markdown",
   "id": "d70d5b23",
   "metadata": {},
   "source": [
    "**Task 14 (2 points).** Find a team with the highest win rate in the **2015/2016** season. Win rate means won matches / all matches. If there are several teams with the highest win rate return the first by name in lexical order"
   ]
  },
  {
   "cell_type": "code",
   "execution_count": 18,
   "id": "b1aa7db0",
   "metadata": {},
   "outputs": [
    {
     "data": {
      "text/plain": [
       "'SL Benfica'"
      ]
     },
     "execution_count": 18,
     "metadata": {},
     "output_type": "execute_result"
    }
   ],
   "source": [
    "df = match_data[match_data[\"season\"] == \"2015/2016\"]\n",
    "\n",
    "s = pd.concat([df[\"home_team_api_id\"], df[\"away_team_api_id\"]])\n",
    "s\n",
    "\n",
    "teams = pd.DataFrame(s)\n",
    "\n",
    "teams[\"ident\"] = 1\n",
    "\n",
    "\n",
    "grouped = teams[\"ident\"].groupby(teams[0]).sum()\n",
    "grouped\n",
    "\n",
    "grouped_df = pd.DataFrame({\"teams_id\": grouped.index, \"total\": grouped.values})\n",
    "grouped_df # total games\n",
    "\n",
    "l = df.shape[0]\n",
    "\n",
    "df = pd.DataFrame(df)\n",
    "\n",
    "df[\"winner\"] = -1\n",
    "df.loc[df[\"home_team_goal\"] < df[\"away_team_goal\"], \"winner\"] = df[\"away_team_api_id\"]\n",
    "df.loc[df[\"home_team_goal\"] > df[\"away_team_goal\"], \"winner\"] = df[\"home_team_api_id\"]\n",
    "\n",
    "df[\"indent\"] = 1\n",
    "grouped = df[\"ident\"].groupby(df[\"winner\"]).sum()\n",
    "grouped\n",
    "\n",
    "grouped_winner = pd.DataFrame({\"teams_id\": grouped.index, \"winner\": grouped.values})\n",
    "grouped_winner = grouped_winner.drop([0]) #=  grouped_winner.drop(0)\n",
    "grouped_winner\n",
    "\n",
    "grouped_df.index = grouped_df.index + 1\n",
    "grouped_df\n",
    "grouped_winner[\"winner\"] = grouped_winner[\"winner\"]/grouped_df[\"total\"]\n",
    "grouped_winner = grouped_winner.sort_values(by = \"winner\", ascending= False)\n",
    "grouped_winner\n",
    "#s = grouped_winner[\"winner\"]/grouped_df[\"total\"]\n",
    "\n",
    "#s.sort_values()\n",
    "\n",
    "#print(grouped_df)\n",
    "#print(grouped_winner)\n",
    "team_id = grouped_winner.iloc[0].to_list()[0]\n",
    "team_highest_winrate_2015_2016 = team_data[team_data[\"team_api_id\"] == team_id][\"team_long_name\"].to_list()[0]\n",
    "team_highest_winrate_2015_2016"
   ]
  },
  {
   "cell_type": "markdown",
   "id": "f7f3b4f5",
   "metadata": {},
   "source": [
    "**Task 15 (2 points).** Determine the team with the maximum days' gap between matches in **England Premier League 2010/2011 season**. Return number of days in that gap. <br>\n",
    "**Note**: a *gap* means the number of days between two consecutive matches of the same team."
   ]
  },
  {
   "cell_type": "code",
   "execution_count": 63,
   "id": "a4c33e5f",
   "metadata": {},
   "outputs": [
    {
     "data": {
      "text/plain": [
       "18"
      ]
     },
     "execution_count": 63,
     "metadata": {},
     "output_type": "execute_result"
    }
   ],
   "source": [
    "league_id =  league_data[league_data[\"name\"] == \"England Premier League\"][\"id\"].to_list()[0]\n",
    "\n",
    "df = pd.DataFrame(match_data[(match_data[\"league_id\"] == league_id) & (match_data[\"season\"] == \"2010/2011\")])\n",
    "df[\"date\"] = pd.to_datetime(df[\"date\"])\n",
    "df\n",
    "\n",
    "part1 = df[[\"date\", \"home_team_api_id\"]]\n",
    "part1\n",
    "part1 = part1.rename(columns = {\"home_team_api_id\": \"id\"})\n",
    "part1\n",
    "part2 = df[[\"date\", \"away_team_api_id\"]]\n",
    "part2 = part2.rename(columns = {\"away_team_api_id\": \"id\"})\n",
    "part2\n",
    "\n",
    "df = pd.concat([part1, part2], ignore_index=True)\n",
    "\n",
    "df = df.sort_values(by=\"date\")\n",
    "\n",
    "######### df.groupby(\"id\")[\"date\"].diff().max().days\n",
    "\n",
    "highest_gap_england_2010_2011 = df.groupby(\"id\").apply(lambda x: x[\"date\"].diff().max()).max().days\n",
    "\n",
    "########### highest_gap_england_2010_2011 = 223\n",
    "\n",
    "highest_gap_england_2010_2011"
   ]
  },
  {
   "cell_type": "markdown",
   "id": "acecc77f",
   "metadata": {},
   "source": [
    "### Warning! Do not change anything in the area below"
   ]
  },
  {
   "cell_type": "code",
   "execution_count": null,
   "id": "94c3b9be",
   "metadata": {},
   "outputs": [],
   "source": [
    "with open('student_answers.txt', 'w') as file:\n",
    "    file.write(f\"{players_180_190}\\n\")\n",
    "    file.write(f\"{players_1980}\\n\")\n",
    "    file.write(f\"{highest_players}\\n\")\n",
    "    file.write(f\"{years_born_players}\\n\")\n",
    "    file.write(f\"{round(adriano_mean, 3)} {round(adriano_std, 3)}\\n\")\n",
    "    file.write(f\"{dow_with_min_players_born}\\n\")\n",
    "    file.write(f\"{league_most_matches}\\n\")\n",
    "    file.write(f\"{max_matches_player}\\n\")\n",
    "    file.write(f\"{';'.join(['%s,%s' % tup for tup in top_correlated_features])};\\n\")\n",
    "    file.write(f\"{neymar_similarities}\\n\")\n",
    "    file.write(f\"{borussia_bundesliga_2008_2009_matches}\\n\")\n",
    "    file.write(f\"{team_most_matches_bundesliga_2008_2009}\\n\")\n",
    "    file.write(f\"{arsenal_won_matches_2015_2016}\\n\")\n",
    "    file.write(f\"{team_highest_winrate_2015_2016}\\n\")\n",
    "    file.write(f\"{highest_gap_england_2010_2011}\\n\")"
   ]
  }
 ],
 "metadata": {
  "kernelspec": {
   "display_name": "PyCharm (ml-intro)",
   "language": "python",
   "name": "pycharm-2d464a63"
  },
  "language_info": {
   "codemirror_mode": {
    "name": "ipython",
    "version": 3
   },
   "file_extension": ".py",
   "mimetype": "text/x-python",
   "name": "python",
   "nbconvert_exporter": "python",
   "pygments_lexer": "ipython3",
   "version": "3.9.7"
  }
 },
 "nbformat": 4,
 "nbformat_minor": 5
}